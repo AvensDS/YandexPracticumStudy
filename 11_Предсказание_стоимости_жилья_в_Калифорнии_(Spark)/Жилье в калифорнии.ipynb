{
 "cells": [
  {
   "cell_type": "markdown",
   "id": "GEqQaHzsZ_bA",
   "metadata": {
    "id": "GEqQaHzsZ_bA"
   },
   "source": [
    "## Предсказание стоимости жилья\n",
    "\n",
    "В проекте вам нужно обучить модель линейной регрессии на данных о жилье в Калифорнии в 1990 году. На основе данных нужно предсказать медианную стоимость дома в жилом массиве. Обучите модель и сделайте предсказания на тестовой выборке. Для оценки качества модели используйте метрики RMSE, MAE и R2."
   ]
  },
  {
   "cell_type": "markdown",
   "id": "53871372",
   "metadata": {
    "id": "53871372"
   },
   "source": [
    "# Подготовка данных"
   ]
  },
  {
   "cell_type": "markdown",
   "id": "e0247986-3a63-400e-b836-fbc4121d0834",
   "metadata": {},
   "source": [
    "Загрузим необходимые библиоткеи, которые нам пригодятся в работе с проектом"
   ]
  },
  {
   "cell_type": "code",
   "execution_count": 1,
   "id": "df92e3ec",
   "metadata": {
    "id": "df92e3ec"
   },
   "outputs": [],
   "source": [
    "import pandas as pd\n",
    "import numpy as np\n",
    "import pandas as pd\n",
    "import matplotlib.pyplot as plt\n",
    "import seaborn as sns\n",
    "\n",
    "import pyspark\n",
    "import pyspark.sql.functions as F\n",
    "from pyspark.sql import SparkSession\n",
    "from pyspark.sql.window import Window \n",
    "from pyspark.sql.types import *\n",
    "\n",
    "from pyspark.ml.feature import StringIndexer, VectorAssembler, StandardScaler, OneHotEncoder\n",
    "from pyspark.ml.regression import LinearRegression\n",
    "from pyspark.ml.evaluation import RegressionEvaluator"
   ]
  },
  {
   "cell_type": "code",
   "execution_count": 2,
   "id": "82036986-c1c2-4ca9-a158-35537605a21c",
   "metadata": {},
   "outputs": [],
   "source": [
    "# здесь объявим используемые константы\n",
    "train_size = .8\n",
    "test_size = .2\n",
    "RANDOM_SEED = 2025"
   ]
  },
  {
   "cell_type": "code",
   "execution_count": 3,
   "id": "dbe0c66d-6a4e-46e7-b374-ccece0b90086",
   "metadata": {},
   "outputs": [],
   "source": [
    "# создавние класса для стилизации вывода с помощью команды print()\n",
    "class color:\n",
    "    BLUE = '\\033[94m'\n",
    "    GREEN = '\\033[92m'\n",
    "    YELLOW = '\\033[93m'\n",
    "    RED = '\\033[91m'\n",
    "    BOLD = '\\033[1m'\n",
    "    UNDERLINE = '\\033[4m'\n",
    "    END = '\\033[0m'"
   ]
  },
  {
   "cell_type": "code",
   "execution_count": 4,
   "id": "322af869-fbb7-4e62-a441-1d445ddf612f",
   "metadata": {},
   "outputs": [],
   "source": [
    "# инициализация Spark-сессии\n",
    "spark = SparkSession.builder \\\n",
    "                    .master('local') \\\n",
    "                    .appName('California housing') \\\n",
    "                    .getOrCreate()"
   ]
  },
  {
   "cell_type": "code",
   "execution_count": 5,
   "id": "fce74eee-6ab3-4b62-a57d-fbcb44a50716",
   "metadata": {},
   "outputs": [
    {
     "name": "stderr",
     "output_type": "stream",
     "text": [
      "                                                                                \r"
     ]
    }
   ],
   "source": [
    "# загрузка данных\n",
    "df_housing = spark.read.load('/datasets/housing.csv', format='csv', sep=',', inferSchema=True, header=True)"
   ]
  },
  {
   "cell_type": "code",
   "execution_count": 6,
   "id": "b2bbaf3d-53d2-4429-9070-61f6abf77724",
   "metadata": {},
   "outputs": [
    {
     "name": "stdout",
     "output_type": "stream",
     "text": [
      "root\n",
      " |-- longitude: double (nullable = true)\n",
      " |-- latitude: double (nullable = true)\n",
      " |-- housing_median_age: double (nullable = true)\n",
      " |-- total_rooms: double (nullable = true)\n",
      " |-- total_bedrooms: double (nullable = true)\n",
      " |-- population: double (nullable = true)\n",
      " |-- households: double (nullable = true)\n",
      " |-- median_income: double (nullable = true)\n",
      " |-- median_house_value: double (nullable = true)\n",
      " |-- ocean_proximity: string (nullable = true)\n",
      "\n",
      "+---------+--------+------------------+-----------+--------------+----------+----------+-------------+------------------+---------------+\n",
      "|longitude|latitude|housing_median_age|total_rooms|total_bedrooms|population|households|median_income|median_house_value|ocean_proximity|\n",
      "+---------+--------+------------------+-----------+--------------+----------+----------+-------------+------------------+---------------+\n",
      "|  -122.23|   37.88|              41.0|      880.0|         129.0|     322.0|     126.0|       8.3252|          452600.0|       NEAR BAY|\n",
      "|  -122.22|   37.86|              21.0|     7099.0|        1106.0|    2401.0|    1138.0|       8.3014|          358500.0|       NEAR BAY|\n",
      "|  -122.24|   37.85|              52.0|     1467.0|         190.0|     496.0|     177.0|       7.2574|          352100.0|       NEAR BAY|\n",
      "|  -122.25|   37.85|              52.0|     1274.0|         235.0|     558.0|     219.0|       5.6431|          341300.0|       NEAR BAY|\n",
      "|  -122.25|   37.85|              52.0|     1627.0|         280.0|     565.0|     259.0|       3.8462|          342200.0|       NEAR BAY|\n",
      "+---------+--------+------------------+-----------+--------------+----------+----------+-------------+------------------+---------------+\n",
      "only showing top 5 rows\n",
      "\n"
     ]
    }
   ],
   "source": [
    "# проверка типов данных колонок и их названий\n",
    "df_housing.printSchema()\n",
    "df_housing.show(n=5)"
   ]
  },
  {
   "cell_type": "markdown",
   "id": "cf3515d6-a86d-414d-9bd7-51c197591e96",
   "metadata": {},
   "source": [
    "В колонках датасета содержатся следующие данные:\n",
    "* **longitude** — широта;\n",
    "* **latitude** — долгота;\n",
    "* **housing_median_age** — медианный возраст жителей жилого массива;\n",
    "* **total_rooms** — общее количество комнат в домах жилого массива;\n",
    "* **total_bedrooms** — общее количество спален в домах жилого массива;\n",
    "* **population** — количество человек, которые проживают в жилом массиве;\n",
    "* **households** — количество домовладений в жилом массиве;\n",
    "* **median_income** — медианный доход жителей жилого массива;\n",
    "* **median_house_value** — медианная стоимость дома в жилом массиве;\n",
    "* **ocean_proximity** — близость к океану."
   ]
  },
  {
   "cell_type": "code",
   "execution_count": 7,
   "id": "ec5239b5-aa3e-4f1b-9006-65ce074561ec",
   "metadata": {},
   "outputs": [
    {
     "name": "stderr",
     "output_type": "stream",
     "text": [
      "                                                                                \r"
     ]
    },
    {
     "data": {
      "text/html": [
       "<div>\n",
       "<style scoped>\n",
       "    .dataframe tbody tr th:only-of-type {\n",
       "        vertical-align: middle;\n",
       "    }\n",
       "\n",
       "    .dataframe tbody tr th {\n",
       "        vertical-align: top;\n",
       "    }\n",
       "\n",
       "    .dataframe thead th {\n",
       "        text-align: right;\n",
       "    }\n",
       "</style>\n",
       "<table border=\"1\" class=\"dataframe\">\n",
       "  <thead>\n",
       "    <tr style=\"text-align: right;\">\n",
       "      <th></th>\n",
       "      <th>summary</th>\n",
       "      <th>longitude</th>\n",
       "      <th>latitude</th>\n",
       "      <th>housing_median_age</th>\n",
       "      <th>total_rooms</th>\n",
       "      <th>total_bedrooms</th>\n",
       "      <th>population</th>\n",
       "      <th>households</th>\n",
       "      <th>median_income</th>\n",
       "      <th>median_house_value</th>\n",
       "      <th>ocean_proximity</th>\n",
       "    </tr>\n",
       "  </thead>\n",
       "  <tbody>\n",
       "    <tr>\n",
       "      <th>0</th>\n",
       "      <td>count</td>\n",
       "      <td>20640</td>\n",
       "      <td>20640</td>\n",
       "      <td>20640</td>\n",
       "      <td>20640</td>\n",
       "      <td>20433</td>\n",
       "      <td>20640</td>\n",
       "      <td>20640</td>\n",
       "      <td>20640</td>\n",
       "      <td>20640</td>\n",
       "      <td>20640</td>\n",
       "    </tr>\n",
       "    <tr>\n",
       "      <th>1</th>\n",
       "      <td>mean</td>\n",
       "      <td>-119.56970445736148</td>\n",
       "      <td>35.6318614341087</td>\n",
       "      <td>28.639486434108527</td>\n",
       "      <td>2635.7630813953488</td>\n",
       "      <td>537.8705525375618</td>\n",
       "      <td>1425.4767441860465</td>\n",
       "      <td>499.5396802325581</td>\n",
       "      <td>3.8706710029070246</td>\n",
       "      <td>206855.81690891474</td>\n",
       "      <td>None</td>\n",
       "    </tr>\n",
       "    <tr>\n",
       "      <th>2</th>\n",
       "      <td>stddev</td>\n",
       "      <td>2.003531723502584</td>\n",
       "      <td>2.135952397457101</td>\n",
       "      <td>12.58555761211163</td>\n",
       "      <td>2181.6152515827944</td>\n",
       "      <td>421.38507007403115</td>\n",
       "      <td>1132.46212176534</td>\n",
       "      <td>382.3297528316098</td>\n",
       "      <td>1.899821717945263</td>\n",
       "      <td>115395.61587441359</td>\n",
       "      <td>None</td>\n",
       "    </tr>\n",
       "    <tr>\n",
       "      <th>3</th>\n",
       "      <td>min</td>\n",
       "      <td>-124.35</td>\n",
       "      <td>32.54</td>\n",
       "      <td>1.0</td>\n",
       "      <td>2.0</td>\n",
       "      <td>1.0</td>\n",
       "      <td>3.0</td>\n",
       "      <td>1.0</td>\n",
       "      <td>0.4999</td>\n",
       "      <td>14999.0</td>\n",
       "      <td>&lt;1H OCEAN</td>\n",
       "    </tr>\n",
       "    <tr>\n",
       "      <th>4</th>\n",
       "      <td>max</td>\n",
       "      <td>-114.31</td>\n",
       "      <td>41.95</td>\n",
       "      <td>52.0</td>\n",
       "      <td>39320.0</td>\n",
       "      <td>6445.0</td>\n",
       "      <td>35682.0</td>\n",
       "      <td>6082.0</td>\n",
       "      <td>15.0001</td>\n",
       "      <td>500001.0</td>\n",
       "      <td>NEAR OCEAN</td>\n",
       "    </tr>\n",
       "  </tbody>\n",
       "</table>\n",
       "</div>"
      ],
      "text/plain": [
       "  summary            longitude           latitude  housing_median_age  \\\n",
       "0   count                20640              20640               20640   \n",
       "1    mean  -119.56970445736148   35.6318614341087  28.639486434108527   \n",
       "2  stddev    2.003531723502584  2.135952397457101   12.58555761211163   \n",
       "3     min              -124.35              32.54                 1.0   \n",
       "4     max              -114.31              41.95                52.0   \n",
       "\n",
       "          total_rooms      total_bedrooms          population  \\\n",
       "0               20640               20433               20640   \n",
       "1  2635.7630813953488   537.8705525375618  1425.4767441860465   \n",
       "2  2181.6152515827944  421.38507007403115    1132.46212176534   \n",
       "3                 2.0                 1.0                 3.0   \n",
       "4             39320.0              6445.0             35682.0   \n",
       "\n",
       "          households       median_income  median_house_value ocean_proximity  \n",
       "0              20640               20640               20640           20640  \n",
       "1  499.5396802325581  3.8706710029070246  206855.81690891474            None  \n",
       "2  382.3297528316098   1.899821717945263  115395.61587441359            None  \n",
       "3                1.0              0.4999             14999.0       <1H OCEAN  \n",
       "4             6082.0             15.0001            500001.0      NEAR OCEAN  "
      ]
     },
     "execution_count": 7,
     "metadata": {},
     "output_type": "execute_result"
    }
   ],
   "source": [
    "df_housing.describe().toPandas()"
   ]
  },
  {
   "cell_type": "code",
   "execution_count": 8,
   "id": "450ca3c8-7f39-498a-8149-5e22a75c34da",
   "metadata": {},
   "outputs": [
    {
     "name": "stdout",
     "output_type": "stream",
     "text": [
      "Проверка наличия пропусков в данных:\n",
      "+---------+--------+------------------+-----------+--------------+----------+----------+-------------+------------------+---------------+\n",
      "|longitude|latitude|housing_median_age|total_rooms|total_bedrooms|population|households|median_income|median_house_value|ocean_proximity|\n",
      "+---------+--------+------------------+-----------+--------------+----------+----------+-------------+------------------+---------------+\n",
      "|        0|       0|                 0|          0|           207|         0|         0|            0|                 0|              0|\n",
      "+---------+--------+------------------+-----------+--------------+----------+----------+-------------+------------------+---------------+\n",
      "\n"
     ]
    }
   ],
   "source": [
    "# Проверка пропусков в данных\n",
    "print(\"Проверка наличия пропусков в данных:\")\n",
    "missing_counts = df_housing.select([(F.count(F.when(F.isnan(c) | F.col(c).isNull(), c)).alias(c)) for c in df_housing.columns])\n",
    "missing_counts.show()"
   ]
  },
  {
   "cell_type": "markdown",
   "id": "c5352ade-3870-428f-9702-a533d2f0bd3c",
   "metadata": {},
   "source": [
    "Пропуски обнаружены только в признаке с количеством спальных комнат жилом массиве. Можно заметить что спален зачастую немного больше, чем самих домовладений. Поскольку пропусков в данных с количеством домовладений "
   ]
  },
  {
   "cell_type": "code",
   "execution_count": 9,
   "id": "3d5c64bb-a792-4b68-9809-4b709024b0e4",
   "metadata": {},
   "outputs": [
    {
     "name": "stderr",
     "output_type": "stream",
     "text": [
      "[Stage 16:=====================================================>  (72 + 1) / 75]\r"
     ]
    },
    {
     "name": "stdout",
     "output_type": "stream",
     "text": [
      "+---------------+-------------------+\n",
      "|ocean_proximity|mean_bedrooms_ratio|\n",
      "+---------------+-------------------+\n",
      "|         ISLAND| 1.5220039645390089|\n",
      "|     NEAR OCEAN| 1.0744579500247342|\n",
      "|       NEAR BAY| 1.0531221087345055|\n",
      "|      <1H OCEAN| 1.0497346524932645|\n",
      "|         INLAND| 1.1870535990232673|\n",
      "+---------------+-------------------+\n",
      "\n"
     ]
    },
    {
     "name": "stderr",
     "output_type": "stream",
     "text": [
      "                                                                                \r"
     ]
    }
   ],
   "source": [
    "groupedByOcean_proximity = df_housing.filter(df_housing[\"total_bedrooms\"].isNotNull()) \\\n",
    "                                     .select((F.col('total_bedrooms') / F.col('households')).alias('ratio'),\n",
    "                                             'ocean_proximity').groupBy('ocean_proximity').agg(F.mean('ratio').alias('mean_bedrooms_ratio'))\n",
    "groupedByOcean_proximity.show()"
   ]
  },
  {
   "cell_type": "code",
   "execution_count": 10,
   "id": "7050db8f-3c17-476e-b363-2148e9e07903",
   "metadata": {},
   "outputs": [],
   "source": [
    "df_housing = df_housing.join(groupedByOcean_proximity, on='ocean_proximity', how=\"left\")"
   ]
  },
  {
   "cell_type": "code",
   "execution_count": 11,
   "id": "22d7dfd5-448a-4ef5-a7f3-80191fe5b709",
   "metadata": {},
   "outputs": [],
   "source": [
    "df_filled = df_housing.withColumn('total_bedrooms',\n",
    "                                   F.when(\n",
    "                                       df_housing[\"total_bedrooms\"].isNull() | F.isnan('total_bedrooms'),\n",
    "                                       df_housing['mean_bedrooms_ratio'] * df_housing[\"households\"]\n",
    "                                   ).otherwise(df_housing['total_bedrooms'])\n",
    "                                  )"
   ]
  },
  {
   "cell_type": "code",
   "execution_count": 12,
   "id": "3711c4cc-3e85-42e5-87ca-b2205ada3e80",
   "metadata": {},
   "outputs": [],
   "source": [
    "# удалим вспомогательную колонку, которая создавалась для заполнения пропусков\n",
    "df_filled = df_filled.drop('mean_bedrooms_ratio')"
   ]
  },
  {
   "cell_type": "code",
   "execution_count": 13,
   "id": "b6f4a2aa-5f05-427e-868c-0cf133fc2f46",
   "metadata": {},
   "outputs": [
    {
     "name": "stderr",
     "output_type": "stream",
     "text": [
      "                                                                                \r"
     ]
    },
    {
     "name": "stdout",
     "output_type": "stream",
     "text": [
      "+---------------+---------+--------+------------------+-----------+--------------+----------+----------+-------------+------------------+\n",
      "|ocean_proximity|longitude|latitude|housing_median_age|total_rooms|total_bedrooms|population|households|median_income|median_house_value|\n",
      "+---------------+---------+--------+------------------+-----------+--------------+----------+----------+-------------+------------------+\n",
      "|              0|        0|       0|                 0|          0|             0|         0|         0|            0|                 0|\n",
      "+---------------+---------+--------+------------------+-----------+--------------+----------+----------+-------------+------------------+\n",
      "\n"
     ]
    }
   ],
   "source": [
    "# проверка пропусков после заполнения\n",
    "missing_counts = df_filled.select([(F.count(F.when(F.isnan(c) | F.col(c).isNull(), c)).alias(c)) for c in df_filled.columns])\n",
    "missing_counts.show()"
   ]
  },
  {
   "cell_type": "markdown",
   "id": "b4759b40-317f-461f-9421-ae672dc0b72d",
   "metadata": {},
   "source": [
    "Создадим дополнительные описательные признаки, которые могут помочь нам в предсказании целевого "
   ]
  },
  {
   "cell_type": "code",
   "execution_count": 14,
   "id": "5c292420-69aa-4465-afcc-ac3b6b88e588",
   "metadata": {},
   "outputs": [],
   "source": [
    "# rooms_per_household - отношение количества комнат к количеству домовладений\n",
    "# population_in_household - отношение количества жителей к количеству домовладений \n",
    "# bedroom_index - отношение количества спален к общему количеству комнат \n",
    "\n",
    "df_filled = df_filled.withColumn('rooms_per_household', F.col('total_rooms') / F.col('households')) \\\n",
    "                     .withColumn('population_in_household', F.col('population') / F.col('households')) \\\n",
    "                     .withColumn('bedroom_index', F.col('total_bedrooms') / F.col('total_rooms'))"
   ]
  },
  {
   "cell_type": "markdown",
   "id": "9f0a82f3",
   "metadata": {
    "id": "9f0a82f3"
   },
   "source": [
    "# Обучение моделей"
   ]
  },
  {
   "cell_type": "code",
   "execution_count": 15,
   "id": "08afb614-fc99-4bef-b3bf-c0477b595ef4",
   "metadata": {},
   "outputs": [],
   "source": [
    "df = df_filled"
   ]
  },
  {
   "cell_type": "code",
   "execution_count": 16,
   "id": "9e8d53f7-2832-4727-8d47-bd1b29f1b030",
   "metadata": {},
   "outputs": [
    {
     "name": "stderr",
     "output_type": "stream",
     "text": [
      "                                                                                \r"
     ]
    },
    {
     "data": {
      "text/html": [
       "<div>\n",
       "<style scoped>\n",
       "    .dataframe tbody tr th:only-of-type {\n",
       "        vertical-align: middle;\n",
       "    }\n",
       "\n",
       "    .dataframe tbody tr th {\n",
       "        vertical-align: top;\n",
       "    }\n",
       "\n",
       "    .dataframe thead th {\n",
       "        text-align: right;\n",
       "    }\n",
       "</style>\n",
       "<table border=\"1\" class=\"dataframe\">\n",
       "  <thead>\n",
       "    <tr style=\"text-align: right;\">\n",
       "      <th></th>\n",
       "      <th>ocean_proximity</th>\n",
       "      <th>longitude</th>\n",
       "      <th>latitude</th>\n",
       "      <th>housing_median_age</th>\n",
       "      <th>total_rooms</th>\n",
       "      <th>total_bedrooms</th>\n",
       "      <th>population</th>\n",
       "      <th>households</th>\n",
       "      <th>median_income</th>\n",
       "      <th>median_house_value</th>\n",
       "      <th>rooms_per_household</th>\n",
       "      <th>population_in_household</th>\n",
       "      <th>bedroom_index</th>\n",
       "    </tr>\n",
       "  </thead>\n",
       "  <tbody>\n",
       "    <tr>\n",
       "      <th>0</th>\n",
       "      <td>NEAR BAY</td>\n",
       "      <td>-122.23</td>\n",
       "      <td>37.88</td>\n",
       "      <td>41.0</td>\n",
       "      <td>880.0</td>\n",
       "      <td>129.0</td>\n",
       "      <td>322.0</td>\n",
       "      <td>126.0</td>\n",
       "      <td>8.3252</td>\n",
       "      <td>452600.0</td>\n",
       "      <td>6.984127</td>\n",
       "      <td>2.555556</td>\n",
       "      <td>0.146591</td>\n",
       "    </tr>\n",
       "    <tr>\n",
       "      <th>1</th>\n",
       "      <td>NEAR BAY</td>\n",
       "      <td>-122.22</td>\n",
       "      <td>37.86</td>\n",
       "      <td>21.0</td>\n",
       "      <td>7099.0</td>\n",
       "      <td>1106.0</td>\n",
       "      <td>2401.0</td>\n",
       "      <td>1138.0</td>\n",
       "      <td>8.3014</td>\n",
       "      <td>358500.0</td>\n",
       "      <td>6.238137</td>\n",
       "      <td>2.109842</td>\n",
       "      <td>0.155797</td>\n",
       "    </tr>\n",
       "    <tr>\n",
       "      <th>2</th>\n",
       "      <td>NEAR BAY</td>\n",
       "      <td>-122.24</td>\n",
       "      <td>37.85</td>\n",
       "      <td>52.0</td>\n",
       "      <td>1467.0</td>\n",
       "      <td>190.0</td>\n",
       "      <td>496.0</td>\n",
       "      <td>177.0</td>\n",
       "      <td>7.2574</td>\n",
       "      <td>352100.0</td>\n",
       "      <td>8.288136</td>\n",
       "      <td>2.802260</td>\n",
       "      <td>0.129516</td>\n",
       "    </tr>\n",
       "    <tr>\n",
       "      <th>3</th>\n",
       "      <td>NEAR BAY</td>\n",
       "      <td>-122.25</td>\n",
       "      <td>37.85</td>\n",
       "      <td>52.0</td>\n",
       "      <td>1274.0</td>\n",
       "      <td>235.0</td>\n",
       "      <td>558.0</td>\n",
       "      <td>219.0</td>\n",
       "      <td>5.6431</td>\n",
       "      <td>341300.0</td>\n",
       "      <td>5.817352</td>\n",
       "      <td>2.547945</td>\n",
       "      <td>0.184458</td>\n",
       "    </tr>\n",
       "    <tr>\n",
       "      <th>4</th>\n",
       "      <td>NEAR BAY</td>\n",
       "      <td>-122.25</td>\n",
       "      <td>37.85</td>\n",
       "      <td>52.0</td>\n",
       "      <td>1627.0</td>\n",
       "      <td>280.0</td>\n",
       "      <td>565.0</td>\n",
       "      <td>259.0</td>\n",
       "      <td>3.8462</td>\n",
       "      <td>342200.0</td>\n",
       "      <td>6.281853</td>\n",
       "      <td>2.181467</td>\n",
       "      <td>0.172096</td>\n",
       "    </tr>\n",
       "  </tbody>\n",
       "</table>\n",
       "</div>"
      ],
      "text/plain": [
       "  ocean_proximity  longitude  latitude  housing_median_age  total_rooms  \\\n",
       "0        NEAR BAY    -122.23     37.88                41.0        880.0   \n",
       "1        NEAR BAY    -122.22     37.86                21.0       7099.0   \n",
       "2        NEAR BAY    -122.24     37.85                52.0       1467.0   \n",
       "3        NEAR BAY    -122.25     37.85                52.0       1274.0   \n",
       "4        NEAR BAY    -122.25     37.85                52.0       1627.0   \n",
       "\n",
       "   total_bedrooms  population  households  median_income  median_house_value  \\\n",
       "0           129.0       322.0       126.0         8.3252            452600.0   \n",
       "1          1106.0      2401.0      1138.0         8.3014            358500.0   \n",
       "2           190.0       496.0       177.0         7.2574            352100.0   \n",
       "3           235.0       558.0       219.0         5.6431            341300.0   \n",
       "4           280.0       565.0       259.0         3.8462            342200.0   \n",
       "\n",
       "   rooms_per_household  population_in_household  bedroom_index  \n",
       "0             6.984127                 2.555556       0.146591  \n",
       "1             6.238137                 2.109842       0.155797  \n",
       "2             8.288136                 2.802260       0.129516  \n",
       "3             5.817352                 2.547945       0.184458  \n",
       "4             6.281853                 2.181467       0.172096  "
      ]
     },
     "execution_count": 16,
     "metadata": {},
     "output_type": "execute_result"
    }
   ],
   "source": [
    "df.limit(5).toPandas()"
   ]
  },
  {
   "cell_type": "markdown",
   "id": "d3c3a0c4-eee3-42e2-a168-9d369909e631",
   "metadata": {},
   "source": [
    "Для создания и обучения моделей нам потребуется несколько выборок признаков. Конкретно в данной задаче требуется построить две модели линейной регрессии на разных наборах данных:\n",
    " * используя все данные из файла;\n",
    " * используя только числовые переменные, исключив категориальные."
   ]
  },
  {
   "cell_type": "code",
   "execution_count": 17,
   "id": "e124f4be-fdb6-4a14-817b-5a87c7a1b25f",
   "metadata": {},
   "outputs": [],
   "source": [
    "def pySparkLinearRegression(data, target_col, condtiton=False, threshold=None):\n",
    "    print('Количество строк в переданом датасете:', data.count())\n",
    "    # разделяем колонки по типу\n",
    "    # я заранее знаю какой тип данных содержится в данных, поэтому не буду усложнять код\n",
    "    categorical_cols = [field.name for field in data.schema.fields if field.dataType == StringType()\n",
    "                                                                   and field.name != target_col]\n",
    "\n",
    "    numeric_cols = [field.name for field in data.schema.fields if field.dataType == DoubleType() \n",
    "                                                            and field.name != target_col]\n",
    "    # в проекте стоит задача посмотреть как будет работать модель без категориальых признаков,\n",
    "    # поэтому добавяляю такое условие\n",
    "    \n",
    "    # разделяю на обучающую и тестовую выборку \n",
    "    train_data, test_data = data.randomSplit([train_size, test_size], seed=RANDOM_SEED)\n",
    "    print('Количество строк в тренировочных данных:', train_data.count())\n",
    "    print('Количество строк в тестовых данных:', test_data.count(), end='\\n')\n",
    "\n",
    "    # снова определю названия генерируемых колонок\n",
    "    indexed_cols = [c+'_idx' for c in categorical_cols]\n",
    "    encoded_ohe_cols = [c+'_ohe' for c in indexed_cols]\n",
    "\n",
    "    if condtiton:\n",
    "        train_data = train_data.filter(df[target_col] < threshold)\n",
    "\n",
    "    fitting_train_data = train_data\n",
    "    \n",
    "    if len(categorical_cols) > 0:\n",
    "        # снова определю названия генерируемых колонок\n",
    "        indexed_cols = [c+'_idx' for c in categorical_cols]\n",
    "        encoded_ohe_cols = [c+'_ohe' for c in indexed_cols]\n",
    "        # объявляю трансформеры\n",
    "        indexer = StringIndexer(inputCols=categorical_cols, \n",
    "                                outputCols=indexed_cols, handleInvalid = 'keep') \n",
    "        encoder = OneHotEncoder(inputCols=indexed_cols,\n",
    "                                outputCols=encoded_ohe_cols)\n",
    "        # выполняю обучение трансформеров на тренировочной выборке \n",
    "        # и преобразования на тренировочной и тестовой выборке\n",
    "        \n",
    "        train_data_idx = indexer.fit(fitting_train_data).transform(train_data)        \n",
    "        train_data = encoder.fit(train_data_idx).transform(train_data_idx)\n",
    "\n",
    "        test_data = indexer.fit(fitting_train_data).transform(test_data)\n",
    "        test_data = encoder.fit(train_data_idx).transform(test_data)\n",
    "        \n",
    "        # опять же, учитывая тот факт что в текущих данных только один столбец категориальный\n",
    "        # я не трансформирую результат работы OHE в единый вектор\n",
    "        # на других данных будет по-другому\n",
    "    else:\n",
    "        encoded_ohe_cols = []\n",
    "        \n",
    "    # масштабирую числовые признаки\n",
    "    numerical_assembler = VectorAssembler(inputCols=numeric_cols,\n",
    "                                          outputCol='numerical_features')\n",
    "    standardScaler = StandardScaler(inputCol='numerical_features',\n",
    "                                    outputCol='numerical_features_scaled')\n",
    "\n",
    "    \n",
    "    train_data = numerical_assembler.transform(train_data)\n",
    "    fitting_num_assembler = numerical_assembler.transform(fitting_train_data)\n",
    "    train_data = standardScaler.fit(fitting_num_assembler).transform(train_data)\n",
    "\n",
    "    \n",
    "    test_data = numerical_assembler.transform(test_data)\n",
    "    test_data = standardScaler.fit(fitting_num_assembler).transform(test_data)\n",
    "\n",
    "    # соединяю полученные признаки numerical_features_scaled и результат работы OHE\n",
    "    assembler_all_features = VectorAssembler(inputCols=['numerical_features_scaled'] + encoded_ohe_cols, \n",
    "                                      outputCol='all_features') \n",
    "    train_data = assembler_all_features.transform(train_data)\n",
    "    test_data = assembler_all_features.transform(test_data)\n",
    "\n",
    "    # объявляю модель линейной регрессии и выполняю предсказания\n",
    "    lr = LinearRegression(labelCol=target_col, featuresCol='all_features')\n",
    "    model = lr.fit(train_data)\n",
    "        \n",
    "    predictions = model.transform(test_data)\n",
    "    predictedLabes = predictions.select(target_col, 'prediction')\n",
    "\n",
    "    n = 6\n",
    "    print(f'Первые {n} строк предсказаний модели')\n",
    "    predictedLabes.show(n=n)\n",
    "\n",
    "    # объявляю трансформер RegressionEvaluator для оценки результатов работы модели\n",
    "    evaluator = RegressionEvaluator(labelCol=target_col, predictionCol='prediction')\n",
    "\n",
    "    print(f\"{color.UNDERLINE + color.BLUE}Результат работы модели линейной регрессии на переданном наборе данных{color.END}\")\n",
    "    for metric in ['rmse', 'mae', 'r2']:\n",
    "        mtrc = evaluator.evaluate(predictedLabes, {evaluator.metricName: metric})\n",
    "        print(f\"{color.BOLD}{metric}{color.END}: {mtrc}\")\n",
    "    print()    \n",
    "    return predictions\n",
    "    # результатом работы функции является датафрейм "
   ]
  },
  {
   "cell_type": "code",
   "execution_count": 18,
   "id": "c9c24e58-8825-471f-9abf-12f6f4d86eb7",
   "metadata": {},
   "outputs": [
    {
     "name": "stderr",
     "output_type": "stream",
     "text": [
      "                                                                                \r"
     ]
    },
    {
     "name": "stdout",
     "output_type": "stream",
     "text": [
      "Количество строк в переданом датасете: 20640\n"
     ]
    },
    {
     "name": "stderr",
     "output_type": "stream",
     "text": [
      "                                                                                \r"
     ]
    },
    {
     "name": "stdout",
     "output_type": "stream",
     "text": [
      "Количество строк в тренировочных данных: 16454\n"
     ]
    },
    {
     "name": "stderr",
     "output_type": "stream",
     "text": [
      "                                                                                \r"
     ]
    },
    {
     "name": "stdout",
     "output_type": "stream",
     "text": [
      "Количество строк в тестовых данных: 4186\n"
     ]
    },
    {
     "name": "stderr",
     "output_type": "stream",
     "text": [
      "25/01/16 06:34:23 WARN Instrumentation: [6365e1cf] regParam is zero, which might cause numerical instability and overfitting.\n",
      "25/01/16 06:34:24 WARN BLAS: Failed to load implementation from: com.github.fommil.netlib.NativeSystemBLAS\n",
      "25/01/16 06:34:24 WARN BLAS: Failed to load implementation from: com.github.fommil.netlib.NativeRefBLAS\n",
      "25/01/16 06:34:25 WARN LAPACK: Failed to load implementation from: com.github.fommil.netlib.NativeSystemLAPACK\n",
      "25/01/16 06:34:25 WARN LAPACK: Failed to load implementation from: com.github.fommil.netlib.NativeRefLAPACK\n",
      "25/01/16 06:34:25 WARN Instrumentation: [6365e1cf] Cholesky solver failed due to singular covariance matrix. Retrying with Quasi-Newton solver.\n",
      "                                                                                \r"
     ]
    },
    {
     "name": "stdout",
     "output_type": "stream",
     "text": [
      "Первые 6 строк предсказаний модели\n"
     ]
    },
    {
     "name": "stderr",
     "output_type": "stream",
     "text": [
      "                                                                                \r"
     ]
    },
    {
     "name": "stdout",
     "output_type": "stream",
     "text": [
      "+------------------+------------------+\n",
      "|median_house_value|        prediction|\n",
      "+------------------+------------------+\n",
      "|           94800.0|186836.33570089843|\n",
      "|           57500.0|151750.05115251476|\n",
      "|           84200.0|170546.49368336145|\n",
      "|           74000.0| 153614.8125858507|\n",
      "|          113300.0|244489.56971330475|\n",
      "|          101900.0|152018.96960673062|\n",
      "+------------------+------------------+\n",
      "only showing top 6 rows\n",
      "\n",
      "\u001b[4m\u001b[94mРезультат работы модели линейной регрессии на переданном наборе данных\u001b[0m\n"
     ]
    },
    {
     "name": "stderr",
     "output_type": "stream",
     "text": [
      "                                                                                \r"
     ]
    },
    {
     "name": "stdout",
     "output_type": "stream",
     "text": [
      "\u001b[1mrmse\u001b[0m: 70273.10203600384\n"
     ]
    },
    {
     "name": "stderr",
     "output_type": "stream",
     "text": [
      "                                                                                \r"
     ]
    },
    {
     "name": "stdout",
     "output_type": "stream",
     "text": [
      "\u001b[1mmae\u001b[0m: 50267.52559644155\n"
     ]
    },
    {
     "name": "stderr",
     "output_type": "stream",
     "text": [
      "                                                                                \r"
     ]
    },
    {
     "name": "stdout",
     "output_type": "stream",
     "text": [
      "\u001b[1mr2\u001b[0m: 0.6365076510934691\n",
      "\n"
     ]
    }
   ],
   "source": [
    "predictions_all_features = pySparkLinearRegression(df, 'median_house_value')"
   ]
  },
  {
   "cell_type": "code",
   "execution_count": 19,
   "id": "22f07e29-fd09-4036-977a-1d818d9cc17b",
   "metadata": {},
   "outputs": [
    {
     "name": "stderr",
     "output_type": "stream",
     "text": [
      "                                                                                \r"
     ]
    },
    {
     "name": "stdout",
     "output_type": "stream",
     "text": [
      "Количество строк в переданом датасете: 20640\n"
     ]
    },
    {
     "name": "stderr",
     "output_type": "stream",
     "text": [
      "                                                                                \r"
     ]
    },
    {
     "name": "stdout",
     "output_type": "stream",
     "text": [
      "Количество строк в тренировочных данных: 16454\n"
     ]
    },
    {
     "name": "stderr",
     "output_type": "stream",
     "text": [
      "                                                                                \r"
     ]
    },
    {
     "name": "stdout",
     "output_type": "stream",
     "text": [
      "Количество строк в тестовых данных: 4186\n"
     ]
    },
    {
     "name": "stderr",
     "output_type": "stream",
     "text": [
      "25/01/16 06:35:10 WARN Instrumentation: [c04a3d22] regParam is zero, which might cause numerical instability and overfitting.\n",
      "                                                                                \r"
     ]
    },
    {
     "name": "stdout",
     "output_type": "stream",
     "text": [
      "Первые 6 строк предсказаний модели\n"
     ]
    },
    {
     "name": "stderr",
     "output_type": "stream",
     "text": [
      "                                                                                \r"
     ]
    },
    {
     "name": "stdout",
     "output_type": "stream",
     "text": [
      "+------------------+------------------+\n",
      "|median_house_value|        prediction|\n",
      "+------------------+------------------+\n",
      "|          103600.0| 99582.79694050411|\n",
      "|          106700.0| 184605.3095610356|\n",
      "|          107000.0| 154466.6043343991|\n",
      "|          116100.0|196020.47664011922|\n",
      "|           85600.0|153113.04914060095|\n",
      "|           81800.0|198753.76331447158|\n",
      "+------------------+------------------+\n",
      "only showing top 6 rows\n",
      "\n",
      "\u001b[4m\u001b[94mРезультат работы модели линейной регрессии на переданном наборе данных\u001b[0m\n"
     ]
    },
    {
     "name": "stderr",
     "output_type": "stream",
     "text": [
      "                                                                                \r"
     ]
    },
    {
     "name": "stdout",
     "output_type": "stream",
     "text": [
      "\u001b[1mrmse\u001b[0m: 70112.0427882378\n"
     ]
    },
    {
     "name": "stderr",
     "output_type": "stream",
     "text": [
      "                                                                                \r"
     ]
    },
    {
     "name": "stdout",
     "output_type": "stream",
     "text": [
      "\u001b[1mmae\u001b[0m: 50529.20093371395\n"
     ]
    },
    {
     "name": "stderr",
     "output_type": "stream",
     "text": [
      "                                                                                \r"
     ]
    },
    {
     "name": "stdout",
     "output_type": "stream",
     "text": [
      "\u001b[1mr2\u001b[0m: 0.6321304182630831\n",
      "\n"
     ]
    }
   ],
   "source": [
    "predictions_only_num = pySparkLinearRegression(df.drop('ocean_proximity'), 'median_house_value')"
   ]
  },
  {
   "cell_type": "code",
   "execution_count": 20,
   "id": "c81ba7cc-618c-48d4-aef9-e65621b401c9",
   "metadata": {},
   "outputs": [
    {
     "name": "stderr",
     "output_type": "stream",
     "text": [
      "                                                                                \r"
     ]
    },
    {
     "name": "stdout",
     "output_type": "stream",
     "text": [
      "Количество строк в переданом датасете: 20640\n"
     ]
    },
    {
     "name": "stderr",
     "output_type": "stream",
     "text": [
      "                                                                                \r"
     ]
    },
    {
     "name": "stdout",
     "output_type": "stream",
     "text": [
      "Количество строк в тренировочных данных: 16454\n"
     ]
    },
    {
     "name": "stderr",
     "output_type": "stream",
     "text": [
      "                                                                                \r"
     ]
    },
    {
     "name": "stdout",
     "output_type": "stream",
     "text": [
      "Количество строк в тестовых данных: 4186\n"
     ]
    },
    {
     "name": "stderr",
     "output_type": "stream",
     "text": [
      "25/01/16 06:35:45 WARN Instrumentation: [bf4f5eb3] regParam is zero, which might cause numerical instability and overfitting.\n",
      "25/01/16 06:35:46 WARN Instrumentation: [bf4f5eb3] Cholesky solver failed due to singular covariance matrix. Retrying with Quasi-Newton solver.\n",
      "                                                                                \r"
     ]
    },
    {
     "name": "stdout",
     "output_type": "stream",
     "text": [
      "Первые 6 строк предсказаний модели\n"
     ]
    },
    {
     "name": "stderr",
     "output_type": "stream",
     "text": [
      "                                                                                \r"
     ]
    },
    {
     "name": "stdout",
     "output_type": "stream",
     "text": [
      "+------------------+------------------+\n",
      "|median_house_value|        prediction|\n",
      "+------------------+------------------+\n",
      "|          500001.0| 359550.6544088693|\n",
      "|          298500.0| 308152.5984934175|\n",
      "|          187300.0|266066.74277713103|\n",
      "|          225600.0|244932.41361579072|\n",
      "|          358000.0| 324219.4933093778|\n",
      "|          291300.0|357252.92596082756|\n",
      "+------------------+------------------+\n",
      "only showing top 6 rows\n",
      "\n",
      "\u001b[4m\u001b[94mРезультат работы модели линейной регрессии на переданном наборе данных\u001b[0m\n"
     ]
    },
    {
     "name": "stderr",
     "output_type": "stream",
     "text": [
      "                                                                                \r"
     ]
    },
    {
     "name": "stdout",
     "output_type": "stream",
     "text": [
      "\u001b[1mrmse\u001b[0m: 71586.20958407891\n"
     ]
    },
    {
     "name": "stderr",
     "output_type": "stream",
     "text": [
      "                                                                                \r"
     ]
    },
    {
     "name": "stdout",
     "output_type": "stream",
     "text": [
      "\u001b[1mmae\u001b[0m: 50505.83876352337\n"
     ]
    },
    {
     "name": "stderr",
     "output_type": "stream",
     "text": [
      "                                                                                \r"
     ]
    },
    {
     "name": "stdout",
     "output_type": "stream",
     "text": [
      "\u001b[1mr2\u001b[0m: 0.6204960921594154\n",
      "\n"
     ]
    }
   ],
   "source": [
    "predictions_without_geo = pySparkLinearRegression(df.drop('longitude', 'latitude'), 'median_house_value')"
   ]
  },
  {
   "cell_type": "code",
   "execution_count": 21,
   "id": "aae433c4",
   "metadata": {},
   "outputs": [],
   "source": [
    "spark.sparkContext.setLogLevel(\"ERROR\")"
   ]
  },
  {
   "cell_type": "code",
   "execution_count": 22,
   "id": "c65a7ccb-8714-4fd9-834d-e2cfde1886c7",
   "metadata": {},
   "outputs": [
    {
     "name": "stderr",
     "output_type": "stream",
     "text": [
      "                                                                                \r"
     ]
    },
    {
     "name": "stdout",
     "output_type": "stream",
     "text": [
      "Количество строк в переданом датасете: 20640\n"
     ]
    },
    {
     "name": "stderr",
     "output_type": "stream",
     "text": [
      "                                                                                \r"
     ]
    },
    {
     "name": "stdout",
     "output_type": "stream",
     "text": [
      "Количество строк в тренировочных данных: 16454\n"
     ]
    },
    {
     "name": "stderr",
     "output_type": "stream",
     "text": [
      "                                                                                \r"
     ]
    },
    {
     "name": "stdout",
     "output_type": "stream",
     "text": [
      "Количество строк в тестовых данных: 4186\n"
     ]
    },
    {
     "name": "stderr",
     "output_type": "stream",
     "text": [
      "25/01/16 06:36:13 ERROR LBFGS: Failure! Resetting history: breeze.optimize.FirstOrderException: Line search zoom failed\n",
      "25/01/16 06:36:13 ERROR LBFGS: Failure! Resetting history: breeze.optimize.FirstOrderException: Line search zoom failed\n",
      "25/01/16 06:36:13 ERROR LBFGS: Failure again! Giving up and returning. Maybe the objective is just poorly behaved?\n",
      "                                                                                \r"
     ]
    },
    {
     "name": "stdout",
     "output_type": "stream",
     "text": [
      "Первые 6 строк предсказаний модели\n"
     ]
    },
    {
     "name": "stderr",
     "output_type": "stream",
     "text": [
      "                                                                                \r"
     ]
    },
    {
     "name": "stdout",
     "output_type": "stream",
     "text": [
      "+------------------+------------------+\n",
      "|median_house_value|        prediction|\n",
      "+------------------+------------------+\n",
      "|           94800.0|197069.12158893887|\n",
      "|           57500.0| 156577.2580533363|\n",
      "|           84200.0|175167.03151839413|\n",
      "|           74000.0|161553.75368398894|\n",
      "|          113300.0|  246804.949959883|\n",
      "|          101900.0|154533.61936795013|\n",
      "+------------------+------------------+\n",
      "only showing top 6 rows\n",
      "\n",
      "\u001b[4m\u001b[94mРезультат работы модели линейной регрессии на переданном наборе данных\u001b[0m\n"
     ]
    },
    {
     "name": "stderr",
     "output_type": "stream",
     "text": [
      "                                                                                \r"
     ]
    },
    {
     "name": "stdout",
     "output_type": "stream",
     "text": [
      "\u001b[1mrmse\u001b[0m: 70686.15543575787\n"
     ]
    },
    {
     "name": "stderr",
     "output_type": "stream",
     "text": [
      "                                                                                \r"
     ]
    },
    {
     "name": "stdout",
     "output_type": "stream",
     "text": [
      "\u001b[1mmae\u001b[0m: 50911.39628300817\n"
     ]
    },
    {
     "name": "stderr",
     "output_type": "stream",
     "text": [
      "                                                                                \r"
     ]
    },
    {
     "name": "stdout",
     "output_type": "stream",
     "text": [
      "\u001b[1mr2\u001b[0m: 0.6322219998261626\n",
      "\n"
     ]
    }
   ],
   "source": [
    "predictions_without_sintetic_features = pySparkLinearRegression(df.drop('rooms_per_household',\n",
    "                                                                        'population_in_household',\n",
    "                                                                        'bedroom_index'), \n",
    "                                                                'median_house_value')"
   ]
  },
  {
   "cell_type": "markdown",
   "id": "757fd103",
   "metadata": {
    "id": "757fd103"
   },
   "source": [
    "# Анализ результатов"
   ]
  },
  {
   "cell_type": "markdown",
   "id": "f2f73387-ac57-4adf-a2a4-c821959b4f02",
   "metadata": {},
   "source": [
    "Наилучшие результаты выдает модель, обученная на всех признаках:\n",
    "* rmse: 70112.04\n",
    "* mae: 50529.20\n",
    "* r2: 0.6321"
   ]
  },
  {
   "cell_type": "markdown",
   "id": "2d2ff402-b4e5-42d1-9318-e26e8b1330c8",
   "metadata": {},
   "source": [
    "Посмотрим на распределение данных, с которыми все это время работали."
   ]
  },
  {
   "cell_type": "code",
   "execution_count": 22,
   "id": "c4ac9df7-70ab-4528-83db-f455b0855e06",
   "metadata": {},
   "outputs": [],
   "source": [
    "dfs = df.sample(fraction=0.2, seed=RANDOM_SEED)"
   ]
  },
  {
   "cell_type": "code",
   "execution_count": 23,
   "id": "3b4c6d3e-4e15-4d5e-86a2-d29b2a5da2fe",
   "metadata": {},
   "outputs": [
    {
     "name": "stderr",
     "output_type": "stream",
     "text": [
      "                                                                                \r"
     ]
    },
    {
     "data": {
      "image/png": "[encoded data removed]",
      "text/plain": [
       "<Figure size 1268x180 with 8 Axes>"
      ]
     },
     "metadata": {
      "needs_background": "light"
     },
     "output_type": "display_data"
    }
   ],
   "source": [
    "g = sns.PairGrid(data=dfs.select('housing_median_age', 'total_rooms', 'total_bedrooms', 'population', 'households',\n",
    "             'median_income', 'median_house_value').toPandas(), y_vars='median_house_value')\n",
    "g.map_diag(sns.histplot)\n",
    "g.map_offdiag(sns.scatterplot)\n",
    "g.add_legend()\n",
    "plt.show()"
   ]
  },
  {
   "cell_type": "code",
   "execution_count": 24,
   "id": "e568cc88-6d18-42b1-9be8-852fe0f9e484",
   "metadata": {
    "scrolled": true
   },
   "outputs": [
    {
     "name": "stderr",
     "output_type": "stream",
     "text": [
      "/opt/conda/lib/python3.9/site-packages/seaborn/_decorators.py:36: FutureWarning: Pass the following variable as a keyword arg: x. From version 0.12, the only valid positional argument will be `data`, and passing other arguments without an explicit keyword will result in an error or misinterpretation.\n",
      "  warnings.warn(\n"
     ]
    },
    {
     "data": {
      "image/png": "[encoded data removed]",
      "text/plain": [
       "<Figure size 1080x360 with 2 Axes>"
      ]
     },
     "metadata": {
      "needs_background": "light"
     },
     "output_type": "display_data"
    }
   ],
   "source": [
    "data = dfs.select('median_house_value').toPandas()\n",
    "\n",
    "fig, axs = plt.subplots(1, 2, figsize=(15, 5))\n",
    "fig.tight_layout(pad=3, h_pad=5)\n",
    "\n",
    "\n",
    "sns.histplot(data, ax=axs[0])\n",
    "sns.boxplot(data['median_house_value'], ax=axs[1], color=\".8\", linewidth=.75, orient='h')\n",
    "axs[0].set_title(f'Гистограмма распределния значений признака {data.iloc[:, 0].name} \\nв зависимости от признака status', fontsize=10)\n",
    "axs[1].set_title(f'Боксплот для значений признака {data.iloc[:, 0].name}', fontsize=10)\n",
    "\n",
    "plt.show()"
   ]
  },
  {
   "cell_type": "markdown",
   "id": "ca7be7dd-c50c-4103-93c4-b672c019f808",
   "metadata": {},
   "source": [
    "Явной линейной зависимости тут не видно, также еще и очень много выбросов, а, как известно, линейная регрессиия к ним очень чувствительна. "
   ]
  },
  {
   "cell_type": "markdown",
   "id": "d72814ff-d478-4b55-8830-0299a3c78e9c",
   "metadata": {},
   "source": [
    "Скорее всего это отдельная категория домов cо стоимостью более 0,5 миллиона долларов. "
   ]
  },
  {
   "cell_type": "code",
   "execution_count": 25,
   "id": "6ee2f1af-be6a-4c83-968a-3217114e2a4c",
   "metadata": {},
   "outputs": [
    {
     "name": "stderr",
     "output_type": "stream",
     "text": [
      "                                                                                \r"
     ]
    },
    {
     "name": "stdout",
     "output_type": "stream",
     "text": [
      "+------------------+\n",
      "|median_house_value|\n",
      "+------------------+\n",
      "|          500001.0|\n",
      "+------------------+\n",
      "\n",
      "Количество домов со стоимостью более 500.000$ - 965 штук\n"
     ]
    }
   ],
   "source": [
    "data_slice = df.filter(df['median_house_value'] > 500000).select('median_house_value')\n",
    "data_slice.distinct().show()\n",
    "print('Количество домов со стоимостью более 500.000$ -', data_slice.count(), 'штук')"
   ]
  },
  {
   "cell_type": "code",
   "execution_count": 26,
   "id": "4790f42b-5f6d-424b-9850-b7cf9127822d",
   "metadata": {
    "scrolled": true
   },
   "outputs": [
    {
     "name": "stderr",
     "output_type": "stream",
     "text": [
      "                                                                                \r"
     ]
    },
    {
     "name": "stdout",
     "output_type": "stream",
     "text": [
      "Количество строк в переданом датасете: 20640\n"
     ]
    },
    {
     "name": "stderr",
     "output_type": "stream",
     "text": [
      "                                                                                \r"
     ]
    },
    {
     "name": "stdout",
     "output_type": "stream",
     "text": [
      "Количество строк в тренировочных данных: 16454\n"
     ]
    },
    {
     "name": "stderr",
     "output_type": "stream",
     "text": [
      "                                                                                \r"
     ]
    },
    {
     "name": "stdout",
     "output_type": "stream",
     "text": [
      "Количество строк в тестовых данных: 4186\n"
     ]
    },
    {
     "name": "stderr",
     "output_type": "stream",
     "text": [
      "25/01/15 17:25:11 WARN Instrumentation: [7a1e73a7] regParam is zero, which might cause numerical instability and overfitting.\n",
      "25/01/15 17:25:12 WARN Instrumentation: [7a1e73a7] Cholesky solver failed due to singular covariance matrix. Retrying with Quasi-Newton solver.\n",
      "                                                                                \r"
     ]
    },
    {
     "name": "stdout",
     "output_type": "stream",
     "text": [
      "Первые 6 строк предсказаний модели\n"
     ]
    },
    {
     "name": "stderr",
     "output_type": "stream",
     "text": [
      "                                                                                \r"
     ]
    },
    {
     "name": "stdout",
     "output_type": "stream",
     "text": [
      "+------------------+------------------+\n",
      "|median_house_value|        prediction|\n",
      "+------------------+------------------+\n",
      "|           94800.0| 184765.7037977809|\n",
      "|           57500.0| 148879.2762837042|\n",
      "|           84200.0|169239.79072831292|\n",
      "|           74000.0|150361.67825375404|\n",
      "|          113300.0|237536.40422972664|\n",
      "|          101900.0| 149980.3830843172|\n",
      "+------------------+------------------+\n",
      "only showing top 6 rows\n",
      "\n",
      "\u001b[4m\u001b[94mРезультат работы модели линейной регрессии на переданном наборе данных\u001b[0m\n"
     ]
    },
    {
     "name": "stderr",
     "output_type": "stream",
     "text": [
      "                                                                                \r"
     ]
    },
    {
     "name": "stdout",
     "output_type": "stream",
     "text": [
      "\u001b[1mrmse\u001b[0m: 70317.5184935265\n"
     ]
    },
    {
     "name": "stderr",
     "output_type": "stream",
     "text": [
      "                                                                                \r"
     ]
    },
    {
     "name": "stdout",
     "output_type": "stream",
     "text": [
      "\u001b[1mmae\u001b[0m: 49601.32200195898\n"
     ]
    },
    {
     "name": "stderr",
     "output_type": "stream",
     "text": [
      "                                                                                \r"
     ]
    },
    {
     "name": "stdout",
     "output_type": "stream",
     "text": [
      "\u001b[1mr2\u001b[0m: 0.6360480116501088\n",
      "\n"
     ]
    }
   ],
   "source": [
    "predictions = pySparkLinearRegression(df, 'median_house_value', condtiton=True, threshold=500000)"
   ]
  },
  {
   "cell_type": "markdown",
   "id": "b84c0cf7-cb00-482f-9137-d1ed3ef818ca",
   "metadata": {},
   "source": [
    "Скорее всего дело в распредлении самих данных и линейная модель тут не подойдет"
   ]
  },
  {
   "cell_type": "markdown",
   "id": "c1d0ff5a-fed7-469b-b813-4ddcf1557707",
   "metadata": {},
   "source": [
    "RMSE и MAE не особо не уменишились, а увеличение R2 связано с уменьшением количества данных."
   ]
  },
  {
   "cell_type": "code",
   "execution_count": 27,
   "id": "ea67b6e6-93cc-44b1-8886-afedbc504574",
   "metadata": {},
   "outputs": [],
   "source": [
    "spark.stop()"
   ]
  },
  {
   "cell_type": "markdown",
   "id": "f48f3fa1-2f00-4cb2-b93a-a38c5819d880",
   "metadata": {},
   "source": [
    "## Вывод"
   ]
  },
  {
   "cell_type": "markdown",
   "id": "ff914de6-8a99-4686-8fd0-a78cc4126a86",
   "metadata": {},
   "source": [
    "В данной работе была проделана работа по результатам которой получена модель модель линейной регрессии, обученная на данных о жилье в Калифорнии в 1990 году. Наилучшие результаты rmse: 70112.04, mae: 50529.20, r2: 0.6321.\n",
    "\n",
    "Результаты модели не утешительные, работает она не многим лучше, чем если бы предсказывала среднее значение. Связано это, скорее всего, с нелинейным распределением данных."
   ]
  }
 ],
 "metadata": {
  "ExecuteTimeLog": [
   {
    "duration": 1554,
    "start_time": "2025-01-13T15:14:53.553Z"
   },
   {
    "duration": 3,
    "start_time": "2025-01-13T15:14:55.109Z"
   },
   {
    "duration": 26,
    "start_time": "2025-01-13T15:14:55.113Z"
   },
   {
    "duration": 15238,
    "start_time": "2025-01-13T15:14:55.140Z"
   },
   {
    "duration": 9007,
    "start_time": "2025-01-13T15:15:10.382Z"
   },
   {
    "duration": 786,
    "start_time": "2025-01-13T15:15:19.391Z"
   },
   {
    "duration": 4231,
    "start_time": "2025-01-13T15:15:20.178Z"
   },
   {
    "duration": 1480,
    "start_time": "2025-01-13T15:15:24.411Z"
   },
   {
    "duration": 1386,
    "start_time": "2025-01-13T15:15:25.893Z"
   },
   {
    "duration": 6,
    "start_time": "2025-01-13T15:15:27.280Z"
   },
   {
    "duration": 10,
    "start_time": "2025-01-13T15:15:27.287Z"
   },
   {
    "duration": 4906,
    "start_time": "2025-01-13T15:15:27.299Z"
   },
   {
    "duration": 170,
    "start_time": "2025-01-13T15:15:32.207Z"
   },
   {
    "duration": 92,
    "start_time": "2025-01-13T15:15:32.381Z"
   },
   {
    "duration": 9,
    "start_time": "2025-01-13T15:15:32.475Z"
   },
   {
    "duration": 4584,
    "start_time": "2025-01-13T15:15:32.486Z"
   },
   {
    "duration": 108,
    "start_time": "2025-01-13T15:15:37.072Z"
   },
   {
    "duration": 2,
    "start_time": "2025-01-13T15:15:37.182Z"
   },
   {
    "duration": 4115,
    "start_time": "2025-01-13T15:15:37.186Z"
   },
   {
    "duration": 10,
    "start_time": "2025-01-13T15:15:41.303Z"
   },
   {
    "duration": 41908,
    "start_time": "2025-01-13T15:15:41.369Z"
   },
   {
    "duration": 1237,
    "start_time": "2025-01-13T15:16:31.520Z"
   },
   {
    "duration": 2,
    "start_time": "2025-01-13T15:16:32.759Z"
   },
   {
    "duration": 21,
    "start_time": "2025-01-13T15:16:32.770Z"
   },
   {
    "duration": 15778,
    "start_time": "2025-01-13T15:16:32.793Z"
   },
   {
    "duration": 8700,
    "start_time": "2025-01-13T15:16:48.574Z"
   },
   {
    "duration": 897,
    "start_time": "2025-01-13T15:16:57.276Z"
   },
   {
    "duration": 4630,
    "start_time": "2025-01-13T15:16:58.175Z"
   },
   {
    "duration": 1377,
    "start_time": "2025-01-13T15:17:02.807Z"
   },
   {
    "duration": 1005,
    "start_time": "2025-01-13T15:17:04.187Z"
   },
   {
    "duration": 7,
    "start_time": "2025-01-13T15:17:05.194Z"
   },
   {
    "duration": 31,
    "start_time": "2025-01-13T15:17:05.202Z"
   },
   {
    "duration": 5154,
    "start_time": "2025-01-13T15:17:05.235Z"
   },
   {
    "duration": 106,
    "start_time": "2025-01-13T15:17:10.391Z"
   },
   {
    "duration": 96,
    "start_time": "2025-01-13T15:17:10.502Z"
   },
   {
    "duration": 72,
    "start_time": "2025-01-13T15:17:10.599Z"
   },
   {
    "duration": 4822,
    "start_time": "2025-01-13T15:17:10.673Z"
   },
   {
    "duration": 96,
    "start_time": "2025-01-13T15:17:15.497Z"
   },
   {
    "duration": 3,
    "start_time": "2025-01-13T15:17:15.594Z"
   },
   {
    "duration": 3889,
    "start_time": "2025-01-13T15:17:15.599Z"
   },
   {
    "duration": 11,
    "start_time": "2025-01-13T15:17:19.490Z"
   },
   {
    "duration": 40909,
    "start_time": "2025-01-13T15:17:19.502Z"
   },
   {
    "duration": 29216,
    "start_time": "2025-01-13T15:18:00.471Z"
   },
   {
    "duration": 25593,
    "start_time": "2025-01-13T15:18:29.689Z"
   },
   {
    "duration": 3656,
    "start_time": "2025-01-13T15:18:55.283Z"
   },
   {
    "duration": 2456,
    "start_time": "2025-01-13T15:18:58.941Z"
   },
   {
    "duration": 4234,
    "start_time": "2025-01-13T15:19:01.399Z"
   },
   {
    "duration": 20696,
    "start_time": "2025-01-13T15:19:05.635Z"
   },
   {
    "duration": 220,
    "start_time": "2025-01-13T15:22:03.893Z"
   },
   {
    "duration": 137,
    "start_time": "2025-01-13T15:22:09.692Z"
   },
   {
    "duration": 178,
    "start_time": "2025-01-13T15:22:40.525Z"
   },
   {
    "duration": 127,
    "start_time": "2025-01-13T15:22:42.361Z"
   },
   {
    "duration": 230,
    "start_time": "2025-01-13T15:22:52.770Z"
   },
   {
    "duration": 141,
    "start_time": "2025-01-13T15:22:53.349Z"
   },
   {
    "duration": 631,
    "start_time": "2025-01-13T15:23:05.259Z"
   },
   {
    "duration": 198,
    "start_time": "2025-01-13T15:23:06.380Z"
   },
   {
    "duration": 3448,
    "start_time": "2025-01-13T15:23:59.546Z"
   },
   {
    "duration": 6,
    "start_time": "2025-01-13T15:24:06.462Z"
   },
   {
    "duration": 3,
    "start_time": "2025-01-13T15:24:07.571Z"
   },
   {
    "duration": 3,
    "start_time": "2025-01-13T15:24:08.068Z"
   },
   {
    "duration": 4,
    "start_time": "2025-01-13T15:24:08.417Z"
   },
   {
    "duration": 576,
    "start_time": "2025-01-13T15:24:09.819Z"
   },
   {
    "duration": 128,
    "start_time": "2025-01-13T15:24:11.363Z"
   },
   {
    "duration": 369,
    "start_time": "2025-01-13T15:25:37.290Z"
   },
   {
    "duration": 80,
    "start_time": "2025-01-13T15:25:37.825Z"
   },
   {
    "duration": 194,
    "start_time": "2025-01-13T15:25:56.787Z"
   },
   {
    "duration": 98,
    "start_time": "2025-01-13T15:25:57.954Z"
   },
   {
    "duration": 1264,
    "start_time": "2025-01-13T15:26:05.209Z"
   },
   {
    "duration": 2,
    "start_time": "2025-01-13T15:26:06.475Z"
   },
   {
    "duration": 42,
    "start_time": "2025-01-13T15:26:06.479Z"
   },
   {
    "duration": 15462,
    "start_time": "2025-01-13T15:26:06.522Z"
   },
   {
    "duration": 8320,
    "start_time": "2025-01-13T15:26:21.987Z"
   },
   {
    "duration": 711,
    "start_time": "2025-01-13T15:26:30.371Z"
   },
   {
    "duration": 4214,
    "start_time": "2025-01-13T15:26:31.084Z"
   },
   {
    "duration": 1281,
    "start_time": "2025-01-13T15:26:35.300Z"
   },
   {
    "duration": 1211,
    "start_time": "2025-01-13T15:26:36.583Z"
   },
   {
    "duration": 6,
    "start_time": "2025-01-13T15:26:37.796Z"
   },
   {
    "duration": 24,
    "start_time": "2025-01-13T15:26:37.804Z"
   },
   {
    "duration": 4941,
    "start_time": "2025-01-13T15:26:37.830Z"
   },
   {
    "duration": 106,
    "start_time": "2025-01-13T15:26:42.773Z"
   },
   {
    "duration": 23,
    "start_time": "2025-01-13T15:26:42.883Z"
   },
   {
    "duration": 68,
    "start_time": "2025-01-13T15:26:42.907Z"
   },
   {
    "duration": 4314,
    "start_time": "2025-01-13T15:26:42.976Z"
   },
   {
    "duration": 101,
    "start_time": "2025-01-13T15:26:47.292Z"
   },
   {
    "duration": 2,
    "start_time": "2025-01-13T15:26:47.395Z"
   },
   {
    "duration": 4214,
    "start_time": "2025-01-13T15:26:47.399Z"
   },
   {
    "duration": 9,
    "start_time": "2025-01-13T15:26:51.615Z"
   },
   {
    "duration": 37972,
    "start_time": "2025-01-13T15:26:51.626Z"
   },
   {
    "duration": 22486,
    "start_time": "2025-01-13T15:27:29.599Z"
   },
   {
    "duration": 22118,
    "start_time": "2025-01-13T15:27:52.086Z"
   },
   {
    "duration": 3399,
    "start_time": "2025-01-13T15:28:14.206Z"
   },
   {
    "duration": 2086,
    "start_time": "2025-01-13T15:28:17.607Z"
   },
   {
    "duration": 3930,
    "start_time": "2025-01-13T15:28:19.694Z"
   },
   {
    "duration": 20407,
    "start_time": "2025-01-13T15:28:23.671Z"
   },
   {
    "duration": 1323,
    "start_time": "2025-01-13T15:54:54.379Z"
   },
   {
    "duration": 3,
    "start_time": "2025-01-13T15:54:59.281Z"
   },
   {
    "duration": 3,
    "start_time": "2025-01-13T15:54:59.692Z"
   },
   {
    "duration": 14683,
    "start_time": "2025-01-13T15:55:00.207Z"
   },
   {
    "duration": 7172,
    "start_time": "2025-01-13T15:55:14.892Z"
   },
   {
    "duration": 625,
    "start_time": "2025-01-13T15:55:22.066Z"
   },
   {
    "duration": 3813,
    "start_time": "2025-01-13T15:55:22.754Z"
   },
   {
    "duration": 1015,
    "start_time": "2025-01-13T15:55:26.568Z"
   },
   {
    "duration": 882,
    "start_time": "2025-01-13T15:55:27.585Z"
   },
   {
    "duration": 6,
    "start_time": "2025-01-13T15:55:28.468Z"
   },
   {
    "duration": 16,
    "start_time": "2025-01-13T15:55:28.476Z"
   },
   {
    "duration": 4182,
    "start_time": "2025-01-13T15:55:28.494Z"
   },
   {
    "duration": 99,
    "start_time": "2025-01-13T15:55:32.678Z"
   },
   {
    "duration": 79,
    "start_time": "2025-01-13T15:55:32.779Z"
   },
   {
    "duration": 7,
    "start_time": "2025-01-13T15:55:32.859Z"
   },
   {
    "duration": 3905,
    "start_time": "2025-01-13T15:55:32.867Z"
   },
   {
    "duration": 93,
    "start_time": "2025-01-13T15:55:36.774Z"
   },
   {
    "duration": 3,
    "start_time": "2025-01-13T15:55:36.868Z"
   },
   {
    "duration": 3249,
    "start_time": "2025-01-13T15:55:36.872Z"
   },
   {
    "duration": 10,
    "start_time": "2025-01-13T15:55:40.122Z"
   },
   {
    "duration": 1550,
    "start_time": "2025-01-15T16:49:17.242Z"
   },
   {
    "duration": 13,
    "start_time": "2025-01-15T16:59:17.713Z"
   },
   {
    "duration": 1417,
    "start_time": "2025-01-15T17:08:36.152Z"
   },
   {
    "duration": 2,
    "start_time": "2025-01-15T17:08:37.571Z"
   },
   {
    "duration": 10,
    "start_time": "2025-01-15T17:08:37.575Z"
   },
   {
    "duration": 15984,
    "start_time": "2025-01-15T17:08:37.587Z"
   },
   {
    "duration": 9403,
    "start_time": "2025-01-15T17:08:53.574Z"
   },
   {
    "duration": 784,
    "start_time": "2025-01-15T17:09:02.979Z"
   },
   {
    "duration": 4495,
    "start_time": "2025-01-15T17:09:03.765Z"
   },
   {
    "duration": 1520,
    "start_time": "2025-01-15T17:09:08.262Z"
   },
   {
    "duration": 5783,
    "start_time": "2025-01-15T17:09:09.784Z"
   },
   {
    "duration": 106,
    "start_time": "2025-01-15T17:09:15.570Z"
   },
   {
    "duration": 85,
    "start_time": "2025-01-15T17:09:15.678Z"
   },
   {
    "duration": 10,
    "start_time": "2025-01-15T17:09:15.765Z"
   },
   {
    "duration": 4985,
    "start_time": "2025-01-15T17:09:15.777Z"
   },
   {
    "duration": 103,
    "start_time": "2025-01-15T17:09:20.765Z"
   },
   {
    "duration": 3,
    "start_time": "2025-01-15T17:09:20.870Z"
   },
   {
    "duration": 3272,
    "start_time": "2025-01-15T17:09:20.874Z"
   },
   {
    "duration": 17,
    "start_time": "2025-01-15T17:09:24.148Z"
   },
   {
    "duration": 53534,
    "start_time": "2025-01-15T17:09:24.166Z"
   },
   {
    "duration": 34562,
    "start_time": "2025-01-15T17:10:17.702Z"
   },
   {
    "duration": 27937,
    "start_time": "2025-01-15T17:10:52.266Z"
   },
   {
    "duration": 23512,
    "start_time": "2025-01-15T17:11:20.205Z"
   },
   {
    "duration": 5,
    "start_time": "2025-01-15T17:11:43.719Z"
   },
   {
    "duration": 3163,
    "start_time": "2025-01-15T17:11:43.726Z"
   },
   {
    "duration": 1829,
    "start_time": "2025-01-15T17:11:46.891Z"
   },
   {
    "duration": 3373,
    "start_time": "2025-01-15T17:11:48.722Z"
   },
   {
    "duration": 22272,
    "start_time": "2025-01-15T17:11:52.159Z"
   },
   {
    "duration": 270,
    "start_time": "2025-01-15T17:12:14.433Z"
   },
   {
    "duration": 120,
    "start_time": "2025-01-15T17:12:42.061Z"
   },
   {
    "duration": 19,
    "start_time": "2025-01-15T17:12:45.824Z"
   },
   {
    "duration": 17,
    "start_time": "2025-01-15T17:12:58.803Z"
   },
   {
    "duration": 5,
    "start_time": "2025-01-15T17:13:12.753Z"
   },
   {
    "duration": 18,
    "start_time": "2025-01-15T17:13:14.685Z"
   },
   {
    "duration": 16,
    "start_time": "2025-01-15T17:14:18.442Z"
   },
   {
    "duration": 13,
    "start_time": "2025-01-15T17:14:25.990Z"
   },
   {
    "duration": 4,
    "start_time": "2025-01-15T17:14:51.392Z"
   },
   {
    "duration": 11,
    "start_time": "2025-01-15T17:14:56.245Z"
   },
   {
    "duration": 11,
    "start_time": "2025-01-15T17:15:43.555Z"
   },
   {
    "duration": 1318,
    "start_time": "2025-01-15T17:15:49.650Z"
   },
   {
    "duration": 3,
    "start_time": "2025-01-15T17:15:50.970Z"
   },
   {
    "duration": 4,
    "start_time": "2025-01-15T17:15:50.975Z"
   },
   {
    "duration": 15693,
    "start_time": "2025-01-15T17:15:50.981Z"
   },
   {
    "duration": 5,
    "start_time": "2025-01-15T17:16:06.677Z"
   },
   {
    "duration": 9283,
    "start_time": "2025-01-15T17:16:06.684Z"
   },
   {
    "duration": 894,
    "start_time": "2025-01-15T17:16:15.969Z"
   },
   {
    "duration": 4632,
    "start_time": "2025-01-15T17:16:16.865Z"
   },
   {
    "duration": 1284,
    "start_time": "2025-01-15T17:16:21.499Z"
   },
   {
    "duration": 5706,
    "start_time": "2025-01-15T17:16:22.786Z"
   },
   {
    "duration": 166,
    "start_time": "2025-01-15T17:16:28.494Z"
   },
   {
    "duration": 25,
    "start_time": "2025-01-15T17:16:28.662Z"
   },
   {
    "duration": 73,
    "start_time": "2025-01-15T17:16:28.689Z"
   },
   {
    "duration": 5007,
    "start_time": "2025-01-15T17:16:28.764Z"
   },
   {
    "duration": 105,
    "start_time": "2025-01-15T17:16:33.773Z"
   },
   {
    "duration": 2,
    "start_time": "2025-01-15T17:16:33.881Z"
   },
   {
    "duration": 3210,
    "start_time": "2025-01-15T17:16:33.885Z"
   },
   {
    "duration": 18,
    "start_time": "2025-01-15T17:16:37.161Z"
   },
   {
    "duration": 50290,
    "start_time": "2025-01-15T17:16:37.180Z"
   },
   {
    "duration": 24693,
    "start_time": "2025-01-15T17:17:27.472Z"
   },
   {
    "duration": 26330,
    "start_time": "2025-01-15T17:17:52.167Z"
   },
   {
    "duration": 23676,
    "start_time": "2025-01-15T17:18:18.499Z"
   },
   {
    "duration": 5,
    "start_time": "2025-01-15T17:18:42.176Z"
   },
   {
    "duration": 3115,
    "start_time": "2025-01-15T17:18:42.183Z"
   },
   {
    "duration": 1719,
    "start_time": "2025-01-15T17:18:45.300Z"
   },
   {
    "duration": 4474,
    "start_time": "2025-01-15T17:18:47.020Z"
   },
   {
    "duration": 21742,
    "start_time": "2025-01-15T17:18:51.497Z"
   },
   {
    "duration": 271,
    "start_time": "2025-01-15T17:19:13.242Z"
   },
   {
    "duration": 127,
    "start_time": "2025-01-15T17:19:31.748Z"
   },
   {
    "duration": 21,
    "start_time": "2025-01-15T17:19:36.229Z"
   },
   {
    "duration": 1331,
    "start_time": "2025-01-15T17:21:58.974Z"
   },
   {
    "duration": 3,
    "start_time": "2025-01-15T17:22:00.307Z"
   },
   {
    "duration": 53,
    "start_time": "2025-01-15T17:22:00.312Z"
   },
   {
    "duration": 15995,
    "start_time": "2025-01-15T17:22:00.367Z"
   },
   {
    "duration": 9113,
    "start_time": "2025-01-15T17:22:16.365Z"
   },
   {
    "duration": 788,
    "start_time": "2025-01-15T17:22:25.479Z"
   },
   {
    "duration": 4321,
    "start_time": "2025-01-15T17:22:26.269Z"
   },
   {
    "duration": 1381,
    "start_time": "2025-01-15T17:22:30.592Z"
   },
   {
    "duration": 5787,
    "start_time": "2025-01-15T17:22:31.975Z"
   },
   {
    "duration": 110,
    "start_time": "2025-01-15T17:22:37.764Z"
   },
   {
    "duration": 83,
    "start_time": "2025-01-15T17:22:37.877Z"
   },
   {
    "duration": 11,
    "start_time": "2025-01-15T17:22:37.962Z"
   },
   {
    "duration": 4740,
    "start_time": "2025-01-15T17:22:37.975Z"
   },
   {
    "duration": 157,
    "start_time": "2025-01-15T17:22:42.718Z"
   },
   {
    "duration": 3,
    "start_time": "2025-01-15T17:22:42.877Z"
   },
   {
    "duration": 3010,
    "start_time": "2025-01-15T17:22:42.882Z"
   },
   {
    "duration": 77,
    "start_time": "2025-01-15T17:22:45.895Z"
   },
   {
    "duration": 46493,
    "start_time": "2025-01-15T17:22:45.974Z"
   },
   {
    "duration": 25396,
    "start_time": "2025-01-15T17:23:32.469Z"
   },
   {
    "duration": 27831,
    "start_time": "2025-01-15T17:23:57.866Z"
   },
   {
    "duration": 24280,
    "start_time": "2025-01-15T17:24:25.699Z"
   },
   {
    "duration": 5,
    "start_time": "2025-01-15T17:24:49.981Z"
   },
   {
    "duration": 2926,
    "start_time": "2025-01-15T17:24:49.987Z"
   },
   {
    "duration": 1813,
    "start_time": "2025-01-15T17:24:52.915Z"
   },
   {
    "duration": 3320,
    "start_time": "2025-01-15T17:24:54.730Z"
   },
   {
    "duration": 22139,
    "start_time": "2025-01-15T17:24:58.060Z"
   },
   {
    "duration": 362,
    "start_time": "2025-01-15T17:25:20.201Z"
   },
   {
    "duration": 1269,
    "start_time": "2025-01-16T05:59:10.547Z"
   },
   {
    "duration": 3,
    "start_time": "2025-01-16T05:59:11.818Z"
   },
   {
    "duration": 19,
    "start_time": "2025-01-16T05:59:11.823Z"
   },
   {
    "duration": 16013,
    "start_time": "2025-01-16T05:59:11.845Z"
   },
   {
    "duration": 10504,
    "start_time": "2025-01-16T05:59:27.915Z"
   },
   {
    "duration": 793,
    "start_time": "2025-01-16T05:59:38.422Z"
   },
   {
    "duration": 4942,
    "start_time": "2025-01-16T05:59:39.218Z"
   },
   {
    "duration": 1712,
    "start_time": "2025-01-16T05:59:44.215Z"
   },
   {
    "duration": 6299,
    "start_time": "2025-01-16T05:59:45.931Z"
   },
   {
    "duration": 112,
    "start_time": "2025-01-16T05:59:52.233Z"
   },
   {
    "duration": 94,
    "start_time": "2025-01-16T05:59:52.349Z"
   },
   {
    "duration": 9,
    "start_time": "2025-01-16T05:59:52.445Z"
   },
   {
    "duration": 5498,
    "start_time": "2025-01-16T05:59:52.516Z"
   },
   {
    "duration": 116,
    "start_time": "2025-01-16T05:59:58.020Z"
   },
   {
    "duration": 3,
    "start_time": "2025-01-16T05:59:58.138Z"
   },
   {
    "duration": 3472,
    "start_time": "2025-01-16T05:59:58.143Z"
   },
   {
    "duration": 24,
    "start_time": "2025-01-16T06:00:01.617Z"
   },
   {
    "duration": 60886,
    "start_time": "2025-01-16T06:00:01.643Z"
   },
   {
    "duration": 33910,
    "start_time": "2025-01-16T06:01:02.531Z"
   },
   {
    "duration": 28711,
    "start_time": "2025-01-16T06:01:36.444Z"
   },
   {
    "duration": 4,
    "start_time": "2025-01-16T06:02:05.215Z"
   },
   {
    "duration": 26236,
    "start_time": "2025-01-16T06:02:05.221Z"
   },
   {
    "duration": 3,
    "start_time": "2025-01-16T06:03:39.220Z"
   },
   {
    "duration": 1380,
    "start_time": "2025-01-16T06:11:08.758Z"
   },
   {
    "duration": 3,
    "start_time": "2025-01-16T06:11:10.140Z"
   },
   {
    "duration": 31,
    "start_time": "2025-01-16T06:11:10.145Z"
   },
   {
    "duration": 16286,
    "start_time": "2025-01-16T06:11:10.178Z"
   },
   {
    "duration": 10216,
    "start_time": "2025-01-16T06:11:26.514Z"
   },
   {
    "duration": 794,
    "start_time": "2025-01-16T06:11:36.732Z"
   },
   {
    "duration": 5301,
    "start_time": "2025-01-16T06:11:37.528Z"
   },
   {
    "duration": 1506,
    "start_time": "2025-01-16T06:11:42.831Z"
   },
   {
    "duration": 6290,
    "start_time": "2025-01-16T06:11:44.339Z"
   },
   {
    "duration": 191,
    "start_time": "2025-01-16T06:11:50.632Z"
   },
   {
    "duration": 28,
    "start_time": "2025-01-16T06:11:50.825Z"
   },
   {
    "duration": 13,
    "start_time": "2025-01-16T06:11:50.915Z"
   },
   {
    "duration": 5111,
    "start_time": "2025-01-16T06:11:50.933Z"
   },
   {
    "duration": 104,
    "start_time": "2025-01-16T06:11:56.046Z"
   },
   {
    "duration": 3,
    "start_time": "2025-01-16T06:11:56.216Z"
   },
   {
    "duration": 3421,
    "start_time": "2025-01-16T06:11:56.222Z"
   },
   {
    "duration": 16,
    "start_time": "2025-01-16T06:11:59.644Z"
   },
   {
    "duration": 47874,
    "start_time": "2025-01-16T06:11:59.663Z"
   },
   {
    "duration": 25605,
    "start_time": "2025-01-16T06:12:47.539Z"
   },
   {
    "duration": 30305,
    "start_time": "2025-01-16T06:13:13.146Z"
   },
   {
    "duration": 281,
    "start_time": "2025-01-16T06:13:43.454Z"
   },
   {
    "duration": 0,
    "start_time": "2025-01-16T06:13:43.737Z"
   },
   {
    "duration": 1393,
    "start_time": "2025-01-16T06:33:01.545Z"
   },
   {
    "duration": 4,
    "start_time": "2025-01-16T06:33:02.940Z"
   },
   {
    "duration": 21,
    "start_time": "2025-01-16T06:33:02.945Z"
   },
   {
    "duration": 16464,
    "start_time": "2025-01-16T06:33:02.969Z"
   },
   {
    "duration": 10107,
    "start_time": "2025-01-16T06:33:19.436Z"
   },
   {
    "duration": 880,
    "start_time": "2025-01-16T06:33:29.545Z"
   },
   {
    "duration": 4894,
    "start_time": "2025-01-16T06:33:30.427Z"
   },
   {
    "duration": 1410,
    "start_time": "2025-01-16T06:33:35.323Z"
   },
   {
    "duration": 6090,
    "start_time": "2025-01-16T06:33:36.736Z"
   },
   {
    "duration": 190,
    "start_time": "2025-01-16T06:33:42.828Z"
   },
   {
    "duration": 30,
    "start_time": "2025-01-16T06:33:43.020Z"
   },
   {
    "duration": 12,
    "start_time": "2025-01-16T06:33:43.116Z"
   },
   {
    "duration": 5212,
    "start_time": "2025-01-16T06:33:43.131Z"
   },
   {
    "duration": 98,
    "start_time": "2025-01-16T06:33:48.345Z"
   },
   {
    "duration": 71,
    "start_time": "2025-01-16T06:33:48.445Z"
   },
   {
    "duration": 3030,
    "start_time": "2025-01-16T06:33:48.518Z"
   },
   {
    "duration": 78,
    "start_time": "2025-01-16T06:33:51.551Z"
   },
   {
    "duration": 57395,
    "start_time": "2025-01-16T06:33:51.631Z"
   },
   {
    "duration": 38216,
    "start_time": "2025-01-16T06:34:49.028Z"
   },
   {
    "duration": 30635,
    "start_time": "2025-01-16T06:35:27.247Z"
   },
   {
    "duration": 31,
    "start_time": "2025-01-16T06:35:57.884Z"
   },
   {
    "duration": 25032,
    "start_time": "2025-01-16T06:35:57.917Z"
   }
  ],
  "colab": {
   "name": "PySparkSprint.ipynb",
   "provenance": []
  },
  "kernelspec": {
   "display_name": "Python 3 (ipykernel)",
   "language": "python",
   "name": "python3"
  },
  "language_info": {
   "codemirror_mode": {
    "name": "ipython",
    "version": 3
   },
   "file_extension": ".py",
   "mimetype": "text/x-python",
   "name": "python",
   "nbconvert_exporter": "python",
   "pygments_lexer": "ipython3",
   "version": "3.12.9"
  },
  "toc": {
   "base_numbering": 1,
   "nav_menu": {},
   "number_sections": true,
   "sideBar": true,
   "skip_h1_title": true,
   "title_cell": "Table of Contents",
   "title_sidebar": "Contents",
   "toc_cell": false,
   "toc_position": {},
   "toc_section_display": true,
   "toc_window_display": false
  }
 },
 "nbformat": 4,
 "nbformat_minor": 5
}
