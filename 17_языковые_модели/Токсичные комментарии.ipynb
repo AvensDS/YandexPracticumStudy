{
 "cells": [
  {
   "cell_type": "markdown",
   "metadata": {
    "toc": true
   },
   "source": [
    "<h1>Содержание<span class=\"tocSkip\"></span></h1>\n",
    "<div class=\"toc\"><ul class=\"toc-item\"><li><span><a href=\"#Подготовка\" data-toc-modified-id=\"Подготовка-1\"><span class=\"toc-item-num\">1&nbsp;&nbsp;</span>Подготовка</a></span><ul class=\"toc-item\"><li><span><a href=\"#Импорт-необходимых-библиотек\" data-toc-modified-id=\"Импорт-необходимых-библиотек-1.1\"><span class=\"toc-item-num\">1.1&nbsp;&nbsp;</span>Импорт необходимых библиотек</a></span></li><li><span><a href=\"#Загрузка-данных\" data-toc-modified-id=\"Загрузка-данных-1.2\"><span class=\"toc-item-num\">1.2&nbsp;&nbsp;</span>Загрузка данных</a></span></li></ul></li><li><span><a href=\"#Обучение\" data-toc-modified-id=\"Обучение-2\"><span class=\"toc-item-num\">2&nbsp;&nbsp;</span>Обучение</a></span><ul class=\"toc-item\"><li><span><a href=\"#Обучение-без-использования-Bert\" data-toc-modified-id=\"Обучение-без-использования-Bert-2.1\"><span class=\"toc-item-num\">2.1&nbsp;&nbsp;</span>Обучение без использования Bert</a></span></li><li><span><a href=\"#Обучение-с-использованием-Bert\" data-toc-modified-id=\"Обучение-с-использованием-Bert-2.2\"><span class=\"toc-item-num\">2.2&nbsp;&nbsp;</span>Обучение с использованием Bert</a></span></li></ul></li><li><span><a href=\"#Выводы\" data-toc-modified-id=\"Выводы-3\"><span class=\"toc-item-num\">3&nbsp;&nbsp;</span>Выводы</a></span></li></ul></div>"
   ]
  },
  {
   "cell_type": "markdown",
   "metadata": {},
   "source": [
    "# Проект для «Викишоп» с BERT и без BERT"
   ]
  },
  {
   "cell_type": "markdown",
   "metadata": {},
   "source": [
    "Интернет-магазин «Викишоп» запускает новый сервис. Теперь пользователи могут редактировать и дополнять описания товаров, как в вики-сообществах. То есть клиенты предлагают свои правки и комментируют изменения других. Магазину нужен инструмент, который будет искать токсичные комментарии и отправлять их на модерацию. \n",
    "\n",
    "Обучите модель классифицировать комментарии на позитивные и негативные. В вашем распоряжении набор данных с разметкой о токсичности правок.\n",
    "\n",
    "Постройте модель со значением метрики качества *F1* не меньше 0.75. \n",
    "\n",
    "**Инструкция по выполнению проекта**\n",
    "\n",
    "1. Загрузите и подготовьте данные.\n",
    "2. Обучите разные модели. \n",
    "3. Сделайте выводы.\n",
    "\n",
    "Для выполнения проекта применять *BERT* необязательно, но вы можете попробовать.\n",
    "\n",
    "**Описание данных**\n",
    "\n",
    "Данные находятся в файле `toxic_comments.csv`. Столбец *text* в нём содержит текст комментария, а *toxic* — целевой признак."
   ]
  },
  {
   "cell_type": "markdown",
   "metadata": {},
   "source": [
    "## Подготовка"
   ]
  },
  {
   "cell_type": "markdown",
   "metadata": {},
   "source": [
    "### Импорт необходимых библиотек"
   ]
  },
  {
   "cell_type": "code",
   "execution_count": 1,
   "metadata": {},
   "outputs": [],
   "source": [
    "!pip install numpy==2.2.5 pandas==2.2.3 seaborn==0.13.2 nltk lightgbm transformers spacy tqdm optuna torch -q"
   ]
  },
  {
   "cell_type": "code",
   "execution_count": 2,
   "metadata": {},
   "outputs": [],
   "source": [
    "!python -m spacy download en_core_web_sm"
   ]
  },
  {
   "cell_type": "code",
   "execution_count": 3,
   "metadata": {},
   "outputs": [],
   "source": [
    "RANDOM_STATE = 42"
   ]
  },
  {
   "cell_type": "code",
   "execution_count": 4,
   "metadata": {},
   "outputs": [],
   "source": [
    "import random\n",
    "random.seed(RANDOM_STATE)\n",
    "import numpy as np\n",
    "np.random.seed(RANDOM_STATE)\n",
    "import pandas as pd\n",
    "import matplotlib.pyplot as plt\n",
    "import seaborn as sns\n",
    "sns.set_style(\"whitegrid\")\n",
    "import re\n",
    "import time\n",
    "from math import ceil\n",
    "import time\n",
    "\n",
    "from sklearn.metrics import f1_score, accuracy_score, confusion_matrix, precision_score, recall_score\n",
    "\n",
    "from sklearn.model_selection import train_test_split, GridSearchCV, cross_val_score, cross_val_predict\n",
    "\n",
    "from sklearn.pipeline import Pipeline, make_pipeline\n",
    "\n",
    "from sklearn.feature_extraction.text import TfidfVectorizer\n",
    "\n",
    "from lightgbm             import LGBMClassifier\n",
    "from sklearn.linear_model import LogisticRegression\n",
    "from sklearn.ensemble     import RandomForestClassifier\n",
    "from sklearn.tree         import DecisionTreeClassifier\n",
    "\n",
    "import nltk\n",
    "from nltk.corpus import stopwords as nltk_stopwords\n",
    "\n",
    "import optuna\n",
    "import torch\n",
    "\n",
    "import transformers\n",
    "from transformers import BertTokenizer, BertModel, AutoModel, AutoTokenizer\n",
    "from tqdm.notebook import trange\n",
    "import tqdm\n",
    "from tqdm.auto import tqdm as tqdm_auto\n",
    "\n",
    "import spacy\n",
    "import contractions\n",
    "import warnings"
   ]
  },
  {
   "cell_type": "code",
   "execution_count": 5,
   "metadata": {},
   "outputs": [],
   "source": [
    "# создавние класса для стилизации вывода с помощью команды print()\n",
    "class color:\n",
    "    PURPLE = '\\033[95m'\n",
    "    CYAN = '\\033[96m'\n",
    "    DARKCYAN = '\\033[36m'\n",
    "    BLUE = '\\033[94m'\n",
    "    GREEN = '\\033[92m'\n",
    "    YELLOW = '\\033[93m'\n",
    "    RED = '\\033[91m'\n",
    "    BOLD = '\\033[1m'\n",
    "    UNDERLINE = '\\033[4m'\n",
    "    END = '\\033[0m'\n",
    "    \n",
    "def data_viewer(df):\n",
    "    print(color.BOLD + color.BLUE + color.UNDERLINE, 'Информация по таблице')\n",
    "    display(df.head(5))\n",
    "    print('Количество пропусков в таблице:' + color.BOLD, df.isna().sum().sum(), color.END)\n",
    "    dups = df.duplicated().sum().sum()\n",
    "    print('Количество явных дубликатов в таблице:', dups)\n",
    "    print()\n",
    "    print(df.info())\n",
    "\n",
    "rng = None\n",
    "def set_seed(seed=RANDOM_STATE):\n",
    "    torch.backends.cudnn.deterministic = True\n",
    "    torch.backends.cudnn.benchmark = False\n",
    "    torch.manual_seed(seed)\n",
    "    np.random.seed(seed)\n",
    "    random.seed(seed)\n",
    "    global rng\n",
    "    rng = np.random.default_rng(seed)"
   ]
  },
  {
   "cell_type": "markdown",
   "metadata": {},
   "source": [
    "### Загрузка данных"
   ]
  },
  {
   "cell_type": "code",
   "execution_count": 6,
   "metadata": {},
   "outputs": [],
   "source": [
    "try:\n",
    "    df = pd.read_csv('toxic_comments.csv', index_col=False)\n",
    "except:\n",
    "    df = pd.read_csv('https://code.s3.yandex.net/datasets/toxic_comments.csv')"
   ]
  },
  {
   "cell_type": "code",
   "execution_count": 7,
   "metadata": {},
   "outputs": [
    {
     "name": "stdout",
     "output_type": "stream",
     "text": [
      "\u001b[1m\u001b[94m\u001b[4m Информация по таблице\n"
     ]
    },
    {
     "data": {
      "text/html": [
       "<div>\n",
       "<style scoped>\n",
       "    .dataframe tbody tr th:only-of-type {\n",
       "        vertical-align: middle;\n",
       "    }\n",
       "\n",
       "    .dataframe tbody tr th {\n",
       "        vertical-align: top;\n",
       "    }\n",
       "\n",
       "    .dataframe thead th {\n",
       "        text-align: right;\n",
       "    }\n",
       "</style>\n",
       "<table border=\"1\" class=\"dataframe\">\n",
       "  <thead>\n",
       "    <tr style=\"text-align: right;\">\n",
       "      <th></th>\n",
       "      <th>Unnamed: 0</th>\n",
       "      <th>text</th>\n",
       "      <th>toxic</th>\n",
       "    </tr>\n",
       "  </thead>\n",
       "  <tbody>\n",
       "    <tr>\n",
       "      <th>0</th>\n",
       "      <td>0</td>\n",
       "      <td>Explanation\\nWhy the edits made under my usern...</td>\n",
       "      <td>0</td>\n",
       "    </tr>\n",
       "    <tr>\n",
       "      <th>1</th>\n",
       "      <td>1</td>\n",
       "      <td>D'aww! He matches this background colour I'm s...</td>\n",
       "      <td>0</td>\n",
       "    </tr>\n",
       "    <tr>\n",
       "      <th>2</th>\n",
       "      <td>2</td>\n",
       "      <td>Hey man, I'm really not trying to edit war. It...</td>\n",
       "      <td>0</td>\n",
       "    </tr>\n",
       "    <tr>\n",
       "      <th>3</th>\n",
       "      <td>3</td>\n",
       "      <td>\"\\nMore\\nI can't make any real suggestions on ...</td>\n",
       "      <td>0</td>\n",
       "    </tr>\n",
       "    <tr>\n",
       "      <th>4</th>\n",
       "      <td>4</td>\n",
       "      <td>You, sir, are my hero. Any chance you remember...</td>\n",
       "      <td>0</td>\n",
       "    </tr>\n",
       "  </tbody>\n",
       "</table>\n",
       "</div>"
      ],
      "text/plain": [
       "   Unnamed: 0                                               text  toxic\n",
       "0           0  Explanation\\nWhy the edits made under my usern...      0\n",
       "1           1  D'aww! He matches this background colour I'm s...      0\n",
       "2           2  Hey man, I'm really not trying to edit war. It...      0\n",
       "3           3  \"\\nMore\\nI can't make any real suggestions on ...      0\n",
       "4           4  You, sir, are my hero. Any chance you remember...      0"
      ]
     },
     "metadata": {},
     "output_type": "display_data"
    },
    {
     "name": "stdout",
     "output_type": "stream",
     "text": [
      "Количество пропусков в таблице:\u001b[1m 0 \u001b[0m\n",
      "Количество явных дубликатов в таблице: 0\n",
      "\n",
      "<class 'pandas.core.frame.DataFrame'>\n",
      "RangeIndex: 159292 entries, 0 to 159291\n",
      "Data columns (total 3 columns):\n",
      " #   Column      Non-Null Count   Dtype \n",
      "---  ------      --------------   ----- \n",
      " 0   Unnamed: 0  159292 non-null  int64 \n",
      " 1   text        159292 non-null  object\n",
      " 2   toxic       159292 non-null  int64 \n",
      "dtypes: int64(2), object(1)\n",
      "memory usage: 3.6+ MB\n",
      "None\n"
     ]
    }
   ],
   "source": [
    "data_viewer(df)"
   ]
  },
  {
   "cell_type": "code",
   "execution_count": 8,
   "metadata": {},
   "outputs": [],
   "source": [
    "df = df.drop('Unnamed: 0', axis=1)"
   ]
  },
  {
   "cell_type": "code",
   "execution_count": 9,
   "metadata": {},
   "outputs": [],
   "source": [
    "target_feature_distribution = df['toxic'].value_counts()"
   ]
  },
  {
   "cell_type": "code",
   "execution_count": 10,
   "metadata": {},
   "outputs": [
    {
     "data": {
      "image/png": "[encoded data removed]",
      "text/plain": [
       "<Figure size 640x480 with 1 Axes>"
      ]
     },
     "metadata": {},
     "output_type": "display_data"
    }
   ],
   "source": [
    "sns.barplot(x=target_feature_distribution.index, y=target_feature_distribution.values)\n",
    "ax = plt.gca()\n",
    "ax.set_title('Сравнения количства комментариев в зависимости от токсичности')\n",
    "ax.set_ylabel('количество комментарие')\n",
    "ax.set_xlabel('значения признака toxic')\n",
    "plt.show()"
   ]
  },
  {
   "cell_type": "markdown",
   "metadata": {},
   "source": [
    "Можно отметить явную несбалансированность комментариев в зависимости от целевого признака.\n",
    "\n",
    "Для наглядности выведем по 3 токсичных и не токсичных комментария"
   ]
  },
  {
   "cell_type": "code",
   "execution_count": 11,
   "metadata": {},
   "outputs": [],
   "source": [
    "class_1_indices = df[df['toxic'] == 1].index\n",
    "class_0_indices = df[df['toxic'] == 0].index\n",
    "np.random.seed(RANDOM_STATE) \n",
    "selected_class_1 = np.random.choice(class_1_indices, size=3, replace=False)\n",
    "selected_class_0 = np.random.choice(class_0_indices, size=3, replace=False)\n",
    "selected_indices = np.concatenate([selected_class_0, selected_class_1])"
   ]
  },
  {
   "cell_type": "code",
   "execution_count": 12,
   "metadata": {
    "scrolled": true
   },
   "outputs": [
    {
     "name": "stdout",
     "output_type": "stream",
     "text": [
      "Не токсичные комментарии:\n",
      "\"\n",
      "The opposite is true for me. As you know, until recently I could only close \"\"keep\"\" so I learned to check for these things. Another thing that can cross you up is that if an article is moved during the AFD period, then not only do you need to remove the AFD tag manually, you also have to move the oldafdfull tag from the old talk page to the new one because the Zman script doesn't follow redirects. Another thing to check for is this.   \" \n",
      "\n",
      "What you do are doing is what you want to do.  It is not what happens anywhere else.  Its not the wishes of the others.  It is your wishes.  Please do not message me any further.  Messages will be ignored. \n",
      "\n",
      "arrrh, forgot signink of postink -( \n",
      "\n",
      "Токсичные комментарии:\n",
      "Dude, get a fucking life you queer.. get a real paying job instead of e-wiki policing around, you 50 year old piece of shite... and your mom said to make your bed. \n",
      "\n",
      "The only nonsense I will approve is nonsense committed by 1)chaka zulu warriors. 2)anglican gay priests 3)cocksuck ers \n",
      "\n",
      "Thou shalt be ravished in thy buttocks \n",
      "\n",
      "It's sure to be hurtin! \n",
      "\n"
     ]
    }
   ],
   "source": [
    "for i in range(len(selected_indices)):\n",
    "    if i == 0:\n",
    "        print('Не токсичные комментарии:')\n",
    "    if i == 3:\n",
    "        print('Токсичные комментарии:')\n",
    "    print(df['text'].iloc[selected_indices[i]], '\\n')"
   ]
  },
  {
   "cell_type": "code",
   "execution_count": 13,
   "metadata": {},
   "outputs": [],
   "source": [
    "def clean_text(text):\n",
    "    text = contractions.fix(text)\n",
    "    text = text.lower().replace('\\n', ' ').replace('\\\\', ' ')\n",
    "    # Удаление последовательностей из >4 одинаковых букв (a-z)\n",
    "    text = re.sub(r'([a-z])\\1{4,}', ' ', text)  # Заменяет \"aaaaa\", \"zzzzzz\" и т.д. на пробел\n",
    "    # удаляем все символы, кроме английских букв и пробелов\n",
    "    text = re.sub(r'[^a-z\\s]', ' ', text)\n",
    "    # удаляем лишние пробелы\n",
    "    text = re.sub(r'\\s+', ' ', text).strip()\n",
    "    return text"
   ]
  },
  {
   "cell_type": "code",
   "execution_count": 14,
   "metadata": {},
   "outputs": [],
   "source": [
    "tqdm.tqdm.pandas()"
   ]
  },
  {
   "cell_type": "code",
   "execution_count": 15,
   "metadata": {},
   "outputs": [
    {
     "name": "stderr",
     "output_type": "stream",
     "text": [
      "100%|███████████████████████████████████████████████████████████████████████| 159292/159292 [00:08<00:00, 19694.17it/s]\n"
     ]
    }
   ],
   "source": [
    "df['clean_text'] = df['text'].progress_apply(clean_text)"
   ]
  },
  {
   "cell_type": "code",
   "execution_count": 21,
   "metadata": {},
   "outputs": [
    {
     "name": "stdout",
     "output_type": "stream",
     "text": [
      "Не токсичные комментарии:\n",
      "the opposite is true for me as you know until recently i could only close keep so i learned to check for these things another thing that can cross you up is that if an article is moved during the afd period then not only do you need to remove the afd tag manually you also have to move the oldafdfull tag from the old talk page to the new one because the zman script does not follow redirects another thing to check for is this \n",
      "\n",
      "what you do are doing is what you want to do it is not what happens anywhere else its not the wishes of the others it is your wishes please do not message me any further messages will be ignored \n",
      "\n",
      "arrrh forgot signink of postink \n",
      "\n",
      "Токсичные комментарии:\n",
      "dude get a fucking life you queer get a real paying job instead of e wiki policing around you year old piece of shite and your mom said to make your bed \n",
      "\n",
      "the only nonsense i will approve is nonsense committed by chaka zulu warriors anglican gay priests cocksuck ers \n",
      "\n",
      "thou shalt be ravished in thy buttocks it is sure to be hurtin \n",
      "\n"
     ]
    }
   ],
   "source": [
    "for i in range(len(selected_indices)):\n",
    "    if i == 0:\n",
    "        print('Не токсичные комментарии:')\n",
    "    if i == 3:\n",
    "        print('Токсичные комментарии:')\n",
    "    print(df['clean_text'].iloc[selected_indices[i]], '\\n')"
   ]
  },
  {
   "cell_type": "code",
   "execution_count": 22,
   "metadata": {
    "scrolled": true
   },
   "outputs": [
    {
     "name": "stderr",
     "output_type": "stream",
     "text": [
      "[nltk_data] Downloading package stopwords to\n",
      "[nltk_data]     C:\\Users\\HONOR\\AppData\\Roaming\\nltk_data...\n",
      "[nltk_data]   Package stopwords is already up-to-date!\n"
     ]
    }
   ],
   "source": [
    "nltk.download('stopwords')\n",
    "stopwords = list(nltk_stopwords.words('english'))"
   ]
  },
  {
   "cell_type": "markdown",
   "metadata": {},
   "source": [
    "## Обучение"
   ]
  },
  {
   "cell_type": "markdown",
   "metadata": {},
   "source": [
    "### Обучение без использования Bert"
   ]
  },
  {
   "cell_type": "code",
   "execution_count": 23,
   "metadata": {},
   "outputs": [],
   "source": [
    "# Загрузка модели (выполнить один раз)\n",
    "nlp = spacy.load(\"en_core_web_sm\", disable=[\"parser\", \"ner\"])\n",
    "\n",
    "def lemmatize_spacy(text):\n",
    "    doc = nlp(text)\n",
    "    return \" \".join([token.lemma_ for token in doc])"
   ]
  },
  {
   "cell_type": "code",
   "execution_count": 24,
   "metadata": {},
   "outputs": [],
   "source": [
    "data_for_tfidf = df.copy()"
   ]
  },
  {
   "cell_type": "code",
   "execution_count": 25,
   "metadata": {},
   "outputs": [
    {
     "name": "stderr",
     "output_type": "stream",
     "text": [
      "100%|█████████████████████████████████████████████████████████████████████████| 159292/159292 [19:47<00:00, 134.20it/s]\n"
     ]
    }
   ],
   "source": [
    "data_for_tfidf['clean_lemm_text'] = data_for_tfidf['clean_text'].progress_apply(lemmatize_spacy)"
   ]
  },
  {
   "cell_type": "code",
   "execution_count": 26,
   "metadata": {},
   "outputs": [],
   "source": [
    "X_train_1, X_test_1, y_train_1, y_test_1 = train_test_split(data_for_tfidf['clean_lemm_text'], \n",
    "                                                    data_for_tfidf['toxic'],\n",
    "                                                    test_size = 0.2, \n",
    "                                                    stratify=data_for_tfidf['toxic'], \n",
    "                                                    random_state = RANDOM_STATE)"
   ]
  },
  {
   "cell_type": "code",
   "execution_count": 27,
   "metadata": {},
   "outputs": [],
   "source": [
    "# функция для оптимизации LogisticRegression\n",
    "def objective_logreg(trial):\n",
    "    penalty = trial.suggest_categorical('penalty', ['l1', 'l2'])\n",
    "    solver = 'liblinear' if penalty == 'l1' else 'lbfgs'\n",
    "    \n",
    "    params = {\n",
    "        'C': trial.suggest_float('C', 1e-3, 10.0, log=True),\n",
    "        'penalty': penalty,\n",
    "        'solver': solver,\n",
    "        'max_iter': 1000,\n",
    "        'class_weight': 'balanced',\n",
    "        'random_state': RANDOM_STATE\n",
    "    }\n",
    "\n",
    "    # Модель\n",
    "    model = LogisticRegression(**params)\n",
    "\n",
    "    optuna_pipeline = make_pipeline(\n",
    "        TfidfVectorizer(stop_words=stopwords),\n",
    "        model\n",
    "    )\n",
    "\n",
    "    # кросс-валидация по F1\n",
    "    score = cross_val_score(optuna_pipeline, X_train_1, y_train_1, cv=5, scoring='f1')\n",
    "    return score.mean()"
   ]
  },
  {
   "cell_type": "code",
   "execution_count": 28,
   "metadata": {},
   "outputs": [
    {
     "name": "stderr",
     "output_type": "stream",
     "text": [
      "[I 2025-05-22 17:52:12,117] A new study created in memory with name: LogisticRegression Optimization\n"
     ]
    }
   ],
   "source": [
    "study_logreg = optuna.create_study(direction=\"maximize\", \n",
    "                                   study_name=\"LogisticRegression Optimization\", \n",
    "                                   sampler=optuna.samplers.TPESampler(seed=RANDOM_STATE))"
   ]
  },
  {
   "cell_type": "code",
   "execution_count": 29,
   "metadata": {},
   "outputs": [
    {
     "name": "stderr",
     "output_type": "stream",
     "text": [
      "[I 2025-05-22 17:52:36,622] Trial 0 finished with value: 0.7479468820755859 and parameters: {'penalty': 'l2', 'C': 0.8471801418819978}. Best is trial 0 with value: 0.7479468820755859.\n",
      "[I 2025-05-22 17:52:57,731] Trial 1 finished with value: 0.5805009515122005 and parameters: {'penalty': 'l1', 'C': 0.004207053950287938}. Best is trial 0 with value: 0.7479468820755859.\n",
      "[I 2025-05-22 17:53:19,192] Trial 2 finished with value: 0.7297238794899448 and parameters: {'penalty': 'l2', 'C': 0.2537815508265665}. Best is trial 0 with value: 0.7479468820755859.\n",
      "[I 2025-05-22 17:53:47,950] Trial 3 finished with value: 0.7604487774626376 and parameters: {'penalty': 'l1', 'C': 7.579479953348009}. Best is trial 3 with value: 0.7604487774626376.\n",
      "[I 2025-05-22 17:54:09,273] Trial 4 finished with value: 0.6128794927836785 and parameters: {'penalty': 'l1', 'C': 0.005337032762603957}. Best is trial 3 with value: 0.7604487774626376.\n",
      "[I 2025-05-22 17:54:30,584] Trial 5 finished with value: 0.71608586533209 and parameters: {'penalty': 'l2', 'C': 0.12561043700013558}. Best is trial 3 with value: 0.7604487774626376.\n",
      "[I 2025-05-22 17:54:52,708] Trial 6 finished with value: 0.7386535272852341 and parameters: {'penalty': 'l1', 'C': 0.2801635158716261}. Best is trial 3 with value: 0.7604487774626376.\n",
      "[I 2025-05-22 17:55:14,062] Trial 7 finished with value: 0.689522161579718 and parameters: {'penalty': 'l2', 'C': 0.029204338471814112}. Best is trial 3 with value: 0.7604487774626376.\n",
      "[I 2025-05-22 17:55:35,091] Trial 8 finished with value: 0.6793654125409546 and parameters: {'penalty': 'l2', 'C': 0.006290644294586149}. Best is trial 3 with value: 0.7604487774626376.\n",
      "[I 2025-05-22 17:55:55,831] Trial 9 finished with value: 0.6863270243293258 and parameters: {'penalty': 'l2', 'C': 0.0015339162591163618}. Best is trial 3 with value: 0.7604487774626376.\n",
      "[I 2025-05-22 17:56:23,534] Trial 10 finished with value: 0.7622739069464999 and parameters: {'penalty': 'l1', 'C': 5.380976972360586}. Best is trial 10 with value: 0.7622739069464999.\n",
      "[I 2025-05-22 17:56:52,436] Trial 11 finished with value: 0.7599415992623098 and parameters: {'penalty': 'l1', 'C': 7.8758245610539515}. Best is trial 10 with value: 0.7622739069464999.\n",
      "[I 2025-05-22 17:57:19,322] Trial 12 finished with value: 0.7632338557077057 and parameters: {'penalty': 'l1', 'C': 4.2722748162268}. Best is trial 12 with value: 0.7632338557077057.\n",
      "[I 2025-05-22 17:57:43,428] Trial 13 finished with value: 0.7609166912111773 and parameters: {'penalty': 'l1', 'C': 1.7629227998649168}. Best is trial 12 with value: 0.7632338557077057.\n",
      "[I 2025-05-22 17:58:08,517] Trial 14 finished with value: 0.7621487114234858 and parameters: {'penalty': 'l1', 'C': 2.2660872244775514}. Best is trial 12 with value: 0.7632338557077057.\n"
     ]
    }
   ],
   "source": [
    "study_logreg.optimize(objective_logreg, n_trials=15)"
   ]
  },
  {
   "cell_type": "code",
   "execution_count": 30,
   "metadata": {},
   "outputs": [
    {
     "name": "stdout",
     "output_type": "stream",
     "text": [
      "F1 score тестовой выборки: 0.7667915825886422\n"
     ]
    }
   ],
   "source": [
    "logreg_model = LogisticRegression(penalty='l1', solver='liblinear', C=4.2722748162268, class_weight='balanced', random_state=RANDOM_STATE)\n",
    "tf_idf = TfidfVectorizer(stop_words=stopwords)\n",
    "X_train_tf_idf = tf_idf.fit_transform(X_train_1)\n",
    "X_test_tf_idf = tf_idf.transform(X_test_1)\n",
    "logreg_model.fit(X_train_tf_idf, y_train_1)\n",
    "pred_test = logreg_model.predict(X_test_tf_idf)\n",
    "f1 = f1_score(y_test_1, pred_test)\n",
    "print(\"F1 score тестовой выборки:\", f1)"
   ]
  },
  {
   "cell_type": "markdown",
   "metadata": {},
   "source": [
    "Целевая метрика соответствует требованиям заказчика в f1_score > 0.75"
   ]
  },
  {
   "cell_type": "code",
   "execution_count": 31,
   "metadata": {},
   "outputs": [
    {
     "data": {
      "image/png": "[encoded data removed]",
      "text/plain": [
       "<Figure size 1300x500 with 2 Axes>"
      ]
     },
     "metadata": {},
     "output_type": "display_data"
    }
   ],
   "source": [
    "feature_names = tf_idf.get_feature_names_out()\n",
    "coefs = logreg_model.coef_[0]\n",
    "\n",
    "\n",
    "word_importance = pd.DataFrame({\n",
    "    'word': feature_names,\n",
    "    'coef': coefs\n",
    "})\n",
    "\n",
    "word_importance['abs_coef'] = word_importance['coef'].abs()\n",
    "top_words = word_importance.sort_values('abs_coef', ascending=False).head(20)\n",
    "\n",
    "top_pos = word_importance.sort_values('coef', ascending=True).head(10)\n",
    "top_neg = word_importance.sort_values('coef', ascending=False).head(10)\n",
    "\n",
    "fig, axs = plt.subplots(1, 2, figsize=(13, 5))\n",
    "sns.barplot(data=top_pos, x='coef', y='word', color='green', ax=axs[0])\n",
    "axs[0].set_title('Топ 10 позитивных слов')\n",
    "sns.barplot(data=top_neg, x='coef', y='word', color='red', ax=axs[1])\n",
    "axs[1].set_title('Топ 10 негативных слов')\n",
    "axs[0].set_ylabel('')\n",
    "axs[1].set_ylabel('')\n",
    "axs[1].yaxis.tick_right()"
   ]
  },
  {
   "cell_type": "markdown",
   "metadata": {},
   "source": [
    "Наибольший вес для оценки негативности комментария имеет слово 'fuck'"
   ]
  },
  {
   "cell_type": "markdown",
   "metadata": {},
   "source": [
    "### Обучение с использованием Bert"
   ]
  },
  {
   "cell_type": "markdown",
   "metadata": {},
   "source": [
    "Поскольку токенизация и получение эмбедингов вычислительно затратная операция, выберем из данных сэмпл в 6000 строк, на которых попробуем обучить модель."
   ]
  },
  {
   "cell_type": "code",
   "execution_count": 32,
   "metadata": {},
   "outputs": [],
   "source": [
    "df_for_bert = df.sample(6000, random_state=RANDOM_STATE)"
   ]
  },
  {
   "cell_type": "code",
   "execution_count": 33,
   "metadata": {},
   "outputs": [],
   "source": [
    "model = transformers.AutoModel.from_pretrained('unitary/toxic-bert')\n",
    "tokenizer = transformers.AutoTokenizer.from_pretrained('unitary/toxic-bert')\n",
    "model.eval()\n",
    "model.to('cpu');"
   ]
  },
  {
   "cell_type": "code",
   "execution_count": 34,
   "metadata": {},
   "outputs": [],
   "source": [
    "inputs = tokenizer(list(df_for_bert['clean_text']), return_tensors=\"pt\", truncation=True, padding=True, max_length=512)"
   ]
  },
  {
   "cell_type": "code",
   "execution_count": 35,
   "metadata": {},
   "outputs": [],
   "source": [
    "def process_batches(inputs, model, batch_size=64):\n",
    "    \n",
    "    all_embeddings = []\n",
    "\n",
    "    total_samples = inputs['input_ids'].size(0)\n",
    "\n",
    "    # инициализируем прогресс-бар\n",
    "    progress_bar = tqdm_auto(total=total_samples, desc='Прогресс получения CLS эмбеддингов', leave=False, dynamic_ncols=True)\n",
    "\n",
    "    for i in range(0, total_samples, batch_size):\n",
    "        # собираем батч, все тензоры на CPU\n",
    "        batch = {k: v[i:i+batch_size].to(\"cpu\") for k, v in inputs.items()}\n",
    "\n",
    "        with torch.no_grad(): \n",
    "            outputs = model(**batch)\n",
    "\n",
    "        # берем эмбеддинги [CLS] токена\n",
    "        cls_embeddings = outputs.last_hidden_state[:, 0, :]\n",
    "        all_embeddings.append(cls_embeddings)\n",
    "\n",
    "        progress_bar.update(cls_embeddings.size(0))\n",
    "\n",
    "    progress_bar.close()\n",
    "\n",
    "    return torch.cat(all_embeddings, dim=0)"
   ]
  },
  {
   "cell_type": "code",
   "execution_count": 36,
   "metadata": {},
   "outputs": [
    {
     "data": {
      "application/vnd.jupyter.widget-view+json": {
       "model_id": "6374d399afa649fb880a69e86445b67a",
       "version_major": 2,
       "version_minor": 0
      },
      "text/plain": [
       "Прогресс получения CLS эмбеддингов:   0%|                                                     | 0/6000 [00:00<…"
      ]
     },
     "metadata": {},
     "output_type": "display_data"
    }
   ],
   "source": [
    "# запуск обработки\n",
    "embeddings = process_batches(inputs, model, batch_size=64)"
   ]
  },
  {
   "cell_type": "code",
   "execution_count": 37,
   "metadata": {},
   "outputs": [],
   "source": [
    "X_train, X_test, y_train, y_test = train_test_split(embeddings, \n",
    "                                                    df_for_bert['toxic'], \n",
    "                                                    test_size=0.2, \n",
    "                                                    random_state=RANDOM_STATE, \n",
    "                                                    stratify=df_for_bert['toxic'])"
   ]
  },
  {
   "cell_type": "code",
   "execution_count": 38,
   "metadata": {},
   "outputs": [],
   "source": [
    "param_grid = [\n",
    "    {\n",
    "        'model':[DecisionTreeClassifier(random_state=RANDOM_STATE), \n",
    "                 LGBMClassifier(class_weight='balanced', verbose=-1, random_state=RANDOM_STATE),\n",
    "                 LogisticRegression(penalty = 'l1', solver='saga', random_state=RANDOM_STATE, class_weight='balanced')]\n",
    "    }\n",
    "]"
   ]
  },
  {
   "cell_type": "code",
   "execution_count": 39,
   "metadata": {},
   "outputs": [],
   "source": [
    "embading_pipe = Pipeline([\n",
    "    ('model', LogisticRegression(max_iter=1000, penalty = 'l1', solver='saga', random_state=RANDOM_STATE, class_weight='balanced'))\n",
    "])"
   ]
  },
  {
   "cell_type": "code",
   "execution_count": 40,
   "metadata": {},
   "outputs": [],
   "source": [
    "grid_search_class = GridSearchCV(embading_pipe, \n",
    "                                 param_grid, \n",
    "                                 cv=3, \n",
    "                                 n_jobs=-1,\n",
    "                                 scoring='f1')"
   ]
  },
  {
   "cell_type": "code",
   "execution_count": 41,
   "metadata": {},
   "outputs": [],
   "source": [
    "grid_search_class = grid_search_class.fit(X_train, y_train)"
   ]
  },
  {
   "cell_type": "code",
   "execution_count": 42,
   "metadata": {},
   "outputs": [
    {
     "data": {
      "text/html": [
       "<div>\n",
       "<style scoped>\n",
       "    .dataframe tbody tr th:only-of-type {\n",
       "        vertical-align: middle;\n",
       "    }\n",
       "\n",
       "    .dataframe tbody tr th {\n",
       "        vertical-align: top;\n",
       "    }\n",
       "\n",
       "    .dataframe thead th {\n",
       "        text-align: right;\n",
       "    }\n",
       "</style>\n",
       "<table border=\"1\" class=\"dataframe\">\n",
       "  <thead>\n",
       "    <tr style=\"text-align: right;\">\n",
       "      <th></th>\n",
       "      <th>mean_fit_time</th>\n",
       "      <th>std_fit_time</th>\n",
       "      <th>mean_score_time</th>\n",
       "      <th>std_score_time</th>\n",
       "      <th>param_model</th>\n",
       "      <th>params</th>\n",
       "      <th>split0_test_score</th>\n",
       "      <th>split1_test_score</th>\n",
       "      <th>split2_test_score</th>\n",
       "      <th>mean_test_score</th>\n",
       "      <th>std_test_score</th>\n",
       "      <th>rank_test_score</th>\n",
       "    </tr>\n",
       "  </thead>\n",
       "  <tbody>\n",
       "    <tr>\n",
       "      <th>0</th>\n",
       "      <td>4.600731</td>\n",
       "      <td>0.023945</td>\n",
       "      <td>0.012264</td>\n",
       "      <td>0.001672</td>\n",
       "      <td>LGBMClassifier(class_weight='balanced', random...</td>\n",
       "      <td>{'model': LGBMClassifier(class_weight='balance...</td>\n",
       "      <td>0.917431</td>\n",
       "      <td>0.911765</td>\n",
       "      <td>0.915663</td>\n",
       "      <td>0.914953</td>\n",
       "      <td>0.002367</td>\n",
       "      <td>1</td>\n",
       "    </tr>\n",
       "    <tr>\n",
       "      <th>1</th>\n",
       "      <td>4.092130</td>\n",
       "      <td>0.025094</td>\n",
       "      <td>0.012585</td>\n",
       "      <td>0.000715</td>\n",
       "      <td>LogisticRegression(class_weight='balanced', pe...</td>\n",
       "      <td>{'model': LogisticRegression(class_weight='bal...</td>\n",
       "      <td>0.890756</td>\n",
       "      <td>0.882834</td>\n",
       "      <td>0.916427</td>\n",
       "      <td>0.896672</td>\n",
       "      <td>0.014338</td>\n",
       "      <td>2</td>\n",
       "    </tr>\n",
       "    <tr>\n",
       "      <th>2</th>\n",
       "      <td>3.585666</td>\n",
       "      <td>0.566543</td>\n",
       "      <td>0.009467</td>\n",
       "      <td>0.000341</td>\n",
       "      <td>DecisionTreeClassifier(random_state=42)</td>\n",
       "      <td>{'model': DecisionTreeClassifier(random_state=...</td>\n",
       "      <td>0.864198</td>\n",
       "      <td>0.867470</td>\n",
       "      <td>0.893617</td>\n",
       "      <td>0.875095</td>\n",
       "      <td>0.013165</td>\n",
       "      <td>3</td>\n",
       "    </tr>\n",
       "  </tbody>\n",
       "</table>\n",
       "</div>"
      ],
      "text/plain": [
       "   mean_fit_time  std_fit_time  mean_score_time  std_score_time  \\\n",
       "0       4.600731      0.023945         0.012264        0.001672   \n",
       "1       4.092130      0.025094         0.012585        0.000715   \n",
       "2       3.585666      0.566543         0.009467        0.000341   \n",
       "\n",
       "                                         param_model  \\\n",
       "0  LGBMClassifier(class_weight='balanced', random...   \n",
       "1  LogisticRegression(class_weight='balanced', pe...   \n",
       "2            DecisionTreeClassifier(random_state=42)   \n",
       "\n",
       "                                              params  split0_test_score  \\\n",
       "0  {'model': LGBMClassifier(class_weight='balance...           0.917431   \n",
       "1  {'model': LogisticRegression(class_weight='bal...           0.890756   \n",
       "2  {'model': DecisionTreeClassifier(random_state=...           0.864198   \n",
       "\n",
       "   split1_test_score  split2_test_score  mean_test_score  std_test_score  \\\n",
       "0           0.911765           0.915663         0.914953        0.002367   \n",
       "1           0.882834           0.916427         0.896672        0.014338   \n",
       "2           0.867470           0.893617         0.875095        0.013165   \n",
       "\n",
       "   rank_test_score  \n",
       "0                1  \n",
       "1                2  \n",
       "2                3  "
      ]
     },
     "execution_count": 42,
     "metadata": {},
     "output_type": "execute_result"
    }
   ],
   "source": [
    "pd.DataFrame(grid_search_class.cv_results_).sort_values('rank_test_score').reset_index(drop=True)"
   ]
  },
  {
   "cell_type": "markdown",
   "metadata": {},
   "source": [
    "Ни одна из моделей выше не смогла на кросс-валидации достичь необходимого порога целевой метрики F1. Попробуем обучить нейронную сеть, может быть она справится чуть лучше с ограниченным количеством данных. \n",
    "\n",
    "П.с. В том что проблема именно в количестве данных я знаю достоверно, потому что модели постепенно показывают лучшие результаты по мере увеличения размера выборки из данных (1000 - f1 примерно 0.5, 5000 - f1 почти 0.6, 6000 - f1 почти 0.7)"
   ]
  },
  {
   "cell_type": "code",
   "execution_count": 43,
   "metadata": {},
   "outputs": [],
   "source": [
    "def objective_lgbm(trial):\n",
    "    params = {\n",
    "        'n_estimators': trial.suggest_int('n_estimators', 500, 1300, step=50),\n",
    "        'max_depth': trial.suggest_int('max_depth', 4, 10),\n",
    "        'learning_rate': trial.suggest_float('learning_rate', 0.01, 0.1, log=True),\n",
    "        'num_leaves': trial.suggest_int('num_leaves', 20, 100, step=10),\n",
    "        'min_child_samples': trial.suggest_int('min_child_samples', 5, 40, step=5),\n",
    "        'subsample': trial.suggest_float('subsample', 0.5, 1.0),\n",
    "        'colsample_bytree': trial.suggest_float('colsample_bytree', 0.5, 1.0),\n",
    "        'reg_alpha': trial.suggest_float('reg_alpha', 1e-2, 10.0, log=True),\n",
    "        'reg_lambda': trial.suggest_float('reg_lambda', 1e-2, 10.0, log=True),\n",
    "    }\n",
    "\n",
    "    model = LGBMClassifier(**params, verbose=-1, random_state=RANDOM_STATE)\n",
    "    cv_score = cross_val_score(model, X_train, y_train, cv=5, scoring='f1')\n",
    "    return np.mean(cv_score) "
   ]
  },
  {
   "cell_type": "code",
   "execution_count": 44,
   "metadata": {},
   "outputs": [
    {
     "name": "stderr",
     "output_type": "stream",
     "text": [
      "[I 2025-05-22 23:37:00,137] A new study created in memory with name: LGBM Optimization\n"
     ]
    }
   ],
   "source": [
    "study_lgbm = optuna.create_study(direction='maximize', \n",
    "                                 study_name='LGBM Optimization', \n",
    "                                 sampler=optuna.samplers.TPESampler(seed=RANDOM_STATE))"
   ]
  },
  {
   "cell_type": "code",
   "execution_count": 45,
   "metadata": {
    "scrolled": true
   },
   "outputs": [
    {
     "name": "stderr",
     "output_type": "stream",
     "text": [
      "[I 2025-05-22 23:37:04,404] Trial 0 finished with value: 0.9114998552652092 and parameters: {'n_estimators': 800, 'max_depth': 10, 'learning_rate': 0.05395030966670229, 'num_leaves': 70, 'min_child_samples': 10, 'subsample': 0.5779972601681014, 'colsample_bytree': 0.5290418060840998, 'reg_alpha': 3.9676050770529883, 'reg_lambda': 0.6358358856676253}. Best is trial 0 with value: 0.9114998552652092.\n",
      "[I 2025-05-22 23:37:10,884] Trial 1 finished with value: 0.9048916087607779 and parameters: {'n_estimators': 1100, 'max_depth': 4, 'learning_rate': 0.09330606024425668, 'num_leaves': 90, 'min_child_samples': 10, 'subsample': 0.5909124836035503, 'colsample_bytree': 0.5917022549267169, 'reg_alpha': 0.08179499475211674, 'reg_lambda': 0.3752055855124282}. Best is trial 0 with value: 0.9114998552652092.\n",
      "[I 2025-05-22 23:37:16,214] Trial 2 finished with value: 0.9069360586653854 and parameters: {'n_estimators': 850, 'max_depth': 6, 'learning_rate': 0.04091220574443785, 'num_leaves': 30, 'min_child_samples': 15, 'subsample': 0.6831809216468459, 'colsample_bytree': 0.728034992108518, 'reg_alpha': 2.267398652378039, 'reg_lambda': 0.039721107273819126}. Best is trial 0 with value: 0.9114998552652092.\n",
      "[I 2025-05-22 23:37:25,760] Trial 3 finished with value: 0.9156475703538322 and parameters: {'n_estimators': 900, 'max_depth': 8, 'learning_rate': 0.011128853174905732, 'num_leaves': 70, 'min_child_samples': 10, 'subsample': 0.5325257964926398, 'colsample_bytree': 0.9744427686266666, 'reg_alpha': 7.886714129990489, 'reg_lambda': 2.6619018884890564}. Best is trial 3 with value: 0.9156475703538322.\n",
      "[I 2025-05-22 23:37:29,295] Trial 4 finished with value: 0.9146962103453473 and parameters: {'n_estimators': 750, 'max_depth': 4, 'learning_rate': 0.04833180632488466, 'num_leaves': 50, 'min_child_samples': 5, 'subsample': 0.7475884550556351, 'colsample_bytree': 0.5171942605576092, 'reg_alpha': 5.345166110646819, 'reg_lambda': 0.059750279999602945}. Best is trial 3 with value: 0.9156475703538322.\n",
      "[I 2025-05-22 23:37:36,144] Trial 5 finished with value: 0.9158289081140945 and parameters: {'n_estimators': 1050, 'max_depth': 6, 'learning_rate': 0.03311829888072381, 'num_leaves': 60, 'min_child_samples': 10, 'subsample': 0.9847923138822793, 'colsample_bytree': 0.8875664116805573, 'reg_alpha': 6.58410616012161, 'reg_lambda': 4.83595277646595}. Best is trial 5 with value: 0.9158289081140945.\n",
      "[I 2025-05-22 23:38:03,965] Trial 6 finished with value: 0.9098111587146226 and parameters: {'n_estimators': 1000, 'max_depth': 10, 'learning_rate': 0.012260057359187526, 'num_leaves': 30, 'min_child_samples': 5, 'subsample': 0.6626651653816322, 'colsample_bytree': 0.6943386448447411, 'reg_alpha': 0.06516990611177176, 'reg_lambda': 3.063462210622083}. Best is trial 5 with value: 0.9158289081140945.\n",
      "[I 2025-05-22 23:38:10,421] Trial 7 finished with value: 0.9090865681325881 and parameters: {'n_estimators': 800, 'max_depth': 5, 'learning_rate': 0.03488960745139221, 'num_leaves': 30, 'min_child_samples': 35, 'subsample': 0.5372753218398854, 'colsample_bytree': 0.9934434683002586, 'reg_alpha': 2.0736445177905036, 'reg_lambda': 0.039459088111000004}. Best is trial 5 with value: 0.9158289081140945.\n",
      "[I 2025-05-22 23:38:19,821] Trial 8 finished with value: 0.914190366938431 and parameters: {'n_estimators': 500, 'max_depth': 9, 'learning_rate': 0.05091635945818555, 'num_leaves': 80, 'min_child_samples': 35, 'subsample': 0.5370223258670452, 'colsample_bytree': 0.6792328642721364, 'reg_alpha': 0.022264204303769682, 'reg_lambda': 3.8842777547031417}. Best is trial 5 with value: 0.9158289081140945.\n",
      "[I 2025-05-22 23:38:28,840] Trial 9 finished with value: 0.9148405104896475 and parameters: {'n_estimators': 1000, 'max_depth': 6, 'learning_rate': 0.011575995526672779, 'num_leaves': 40, 'min_child_samples': 15, 'subsample': 0.864803089169032, 'colsample_bytree': 0.8187787356776066, 'reg_alpha': 4.588156549160973, 'reg_lambda': 0.26100256506134767}. Best is trial 5 with value: 0.9158289081140945.\n",
      "[I 2025-05-22 23:38:50,065] Trial 10 finished with value: 0.9081242096758805 and parameters: {'n_estimators': 1300, 'max_depth': 7, 'learning_rate': 0.021043920115142625, 'num_leaves': 100, 'min_child_samples': 25, 'subsample': 0.953832397641259, 'colsample_bytree': 0.8651834476035049, 'reg_alpha': 0.6589721870508305, 'reg_lambda': 8.122468364067634}. Best is trial 5 with value: 0.9158289081140945.\n",
      "[I 2025-05-22 23:38:57,997] Trial 11 finished with value: 0.916878082926052 and parameters: {'n_estimators': 1200, 'max_depth': 8, 'learning_rate': 0.02097557378914702, 'num_leaves': 60, 'min_child_samples': 25, 'subsample': 0.9789880874538218, 'colsample_bytree': 0.9815472890090304, 'reg_alpha': 9.392963624707258, 'reg_lambda': 1.1595692607542967}. Best is trial 11 with value: 0.916878082926052.\n",
      "[I 2025-05-22 23:39:10,591] Trial 12 finished with value: 0.9079013527319304 and parameters: {'n_estimators': 1250, 'max_depth': 8, 'learning_rate': 0.022347621419080872, 'num_leaves': 60, 'min_child_samples': 25, 'subsample': 0.974385219456518, 'colsample_bytree': 0.8859620061900357, 'reg_alpha': 0.7013231882817557, 'reg_lambda': 1.2036107192778198}. Best is trial 11 with value: 0.916878082926052.\n",
      "[I 2025-05-22 23:39:18,214] Trial 13 finished with value: 0.9179839833070558 and parameters: {'n_estimators': 1150, 'max_depth': 7, 'learning_rate': 0.022155114731557665, 'num_leaves': 50, 'min_child_samples': 20, 'subsample': 0.8768205957996089, 'colsample_bytree': 0.9225326700524614, 'reg_alpha': 9.826802565664812, 'reg_lambda': 9.729046906936174}. Best is trial 13 with value: 0.9179839833070558.\n",
      "[I 2025-05-22 23:39:30,431] Trial 14 finished with value: 0.9118885196033808 and parameters: {'n_estimators': 1200, 'max_depth': 8, 'learning_rate': 0.016951976605144872, 'num_leaves': 50, 'min_child_samples': 30, 'subsample': 0.8758067124078945, 'colsample_bytree': 0.9484109940093783, 'reg_alpha': 1.0942081553572305, 'reg_lambda': 0.13649488162321402}. Best is trial 13 with value: 0.9179839833070558.\n"
     ]
    }
   ],
   "source": [
    "warnings.filterwarnings(\"ignore\", category=UserWarning, \n",
    "                        message=\"X does not have valid feature names\")\n",
    "study_lgbm.optimize(objective_lgbm, n_trials=15)"
   ]
  },
  {
   "cell_type": "code",
   "execution_count": 46,
   "metadata": {},
   "outputs": [
    {
     "name": "stdout",
     "output_type": "stream",
     "text": [
      "F1 score тестовой выборки: 0.9105691056910569\n"
     ]
    }
   ],
   "source": [
    "best_model = LGBMClassifier(**study_lgbm.best_params, verbose=-1, random_state=RANDOM_STATE)\n",
    "best_model.fit(X_train, y_train)\n",
    "pred_test = best_model.predict(X_test)\n",
    "f1 = f1_score(y_test, pred_test)\n",
    "print(\"F1 score тестовой выборки:\", f1)"
   ]
  },
  {
   "cell_type": "markdown",
   "metadata": {},
   "source": [
    "Модель LGBMClassifier достаточно хорошо справилась на данных, полученных после toxic-bert. Результат на тестовой выборке более чем удовлетварительный - 0,91"
   ]
  },
  {
   "cell_type": "markdown",
   "metadata": {},
   "source": [
    "## Выводы"
   ]
  },
  {
   "cell_type": "markdown",
   "metadata": {},
   "source": [
    "В данной работе была проведена классификация комментариев на позитивные и негативные. В исходных данных 159292 строки с комментариями. Максимальная длина строки 5000 символов. \n",
    "\n",
    "Предложено 2 варианта решения в BERT и с TfidfVectorizer. \n",
    "\n",
    "Поскольку лемматизация и TF-IDF конечно затратны по вычислительной мощности, но не так сильно как получение эмбедингов, то весь массив данных был обработан, лемматизирован и преобразован TfidfVectorizer. Данный способ удовлетваряет требование заказчика в f1 > 0.75. Словом с наибольшим весом в пользу присовения строке класа 1 стало \"fuck\".\n",
    "\n",
    "В качестве модели BERT toxic-bert, которая обучена на сэмпле из 6000 строк. На полученных эмбеддингах LGBMClassifier показал прекрасный результат на тестовой выборке в 0.91"
   ]
  }
 ],
 "metadata": {
  "kernelspec": {
   "display_name": "Python 3 (ipykernel)",
   "language": "python",
   "name": "python3"
  },
  "language_info": {
   "codemirror_mode": {
    "name": "ipython",
    "version": 3
   },
   "file_extension": ".py",
   "mimetype": "text/x-python",
   "name": "python",
   "nbconvert_exporter": "python",
   "pygments_lexer": "ipython3",
   "version": "3.12.9"
  },
  "toc": {
   "base_numbering": 1,
   "nav_menu": {},
   "number_sections": true,
   "sideBar": true,
   "skip_h1_title": true,
   "title_cell": "Содержание",
   "title_sidebar": "Contents",
   "toc_cell": true,
   "toc_position": {
    "height": "calc(100% - 180px)",
    "left": "10px",
    "top": "150px",
    "width": "302.391px"
   },
   "toc_section_display": true,
   "toc_window_display": false
  }
 },
 "nbformat": 4,
 "nbformat_minor": 4
}
