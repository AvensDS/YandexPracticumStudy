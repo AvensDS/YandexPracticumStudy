{
 "cells": [
  {
   "cell_type": "markdown",
   "id": "e0abb2fd-96e4-447e-a0e5-a6a3106ac868",
   "metadata": {},
   "source": [
    "# Проект: Маркетинг"
   ]
  },
  {
   "cell_type": "markdown",
   "id": "3b1f4b55-9599-4185-ad28-566782c3714e",
   "metadata": {},
   "source": [
    "**Описание**: Интернет-магазин собирает историю покупателей, проводит рассылки предложений и\n",
    "планирует будущие продажи. Для оптимизации процессов надо выделить пользователей,\n",
    "которые готовы совершить покупку в ближайшее время.\n",
    "\n",
    "**Цель**: Предсказать вероятность покупки в течение 90 дней\n",
    "\n",
    "**Данные**:\n",
    "* *apparel-purchases* - история покупок\n",
    "* *apparel-messages* - история рекламных рассылок\n",
    "* *apparel-target_binary* - совершит ли клиент покупку в течение следующих 90 дней"
   ]
  },
  {
   "cell_type": "code",
   "execution_count": 1,
   "id": "50b200b0-33f9-4bed-8ab6-7f82c9b5f727",
   "metadata": {},
   "outputs": [],
   "source": [
    "import pandas as pd\n",
    "pd.set_option('display.max_columns', 25)\n",
    "import numpy as np\n",
    "import matplotlib.pyplot as plt\n",
    "import seaborn as sns\n",
    "sns.set_style(\"whitegrid\")\n",
    "import phik\n",
    "import shap\n",
    "from datetime import timedelta\n",
    "\n",
    "from sklearn.model_selection import train_test_split\n",
    "\n",
    "from sklearn.metrics import roc_auc_score\n",
    "\n",
    "from sklearn.preprocessing import (OneHotEncoder, OrdinalEncoder, \n",
    "                                   StandardScaler, MinMaxScaler, RobustScaler)\n",
    "\n",
    "from sklearn.impute import SimpleImputer\n",
    "\n",
    "from sklearn.model_selection import GridSearchCV, cross_val_score\n",
    "\n",
    "from sklearn.compose import ColumnTransformer\n",
    "from sklearn.pipeline import Pipeline\n",
    "\n",
    "from catboost             import CatBoostClassifier, Pool\n",
    "from lightgbm             import LGBMClassifier\n",
    "from sklearn.tree         import DecisionTreeClassifier, plot_tree\n",
    "from sklearn.linear_model import LogisticRegression, SGDClassifier, PassiveAggressiveClassifier\n",
    "from sklearn.neighbors    import KNeighborsClassifier\n",
    "from sklearn.ensemble     import RandomForestClassifier\n",
    "\n",
    "import optuna\n",
    "# optuna.logging.set_verbosity(optuna.logging.WARNING)\n",
    "\n",
    "import time"
   ]
  },
  {
   "cell_type": "code",
   "execution_count": 2,
   "id": "13f51fd0-8024-4038-9a7e-def95eab946a",
   "metadata": {},
   "outputs": [],
   "source": [
    "# создавние класса для стилизации вывода с помощью команды print()\n",
    "class color:\n",
    "    PURPLE = '\\033[95m'\n",
    "    CYAN = '\\033[96m'\n",
    "    DARKCYAN = '\\033[36m'\n",
    "    BLUE = '\\033[94m'\n",
    "    GREEN = '\\033[92m'\n",
    "    YELLOW = '\\033[93m'\n",
    "    RED = '\\033[91m'\n",
    "    BOLD = '\\033[1m'\n",
    "    UNDERLINE = '\\033[4m'\n",
    "    END = '\\033[0m'"
   ]
  },
  {
   "cell_type": "code",
   "execution_count": 3,
   "id": "f83ed93d-ae8d-4f2d-998c-32f475693d37",
   "metadata": {},
   "outputs": [],
   "source": [
    "# объявление констант\n",
    "RANDOM_STATE = 1000 # фиксация зерна датчика случайных чисел"
   ]
  },
  {
   "cell_type": "code",
   "execution_count": 4,
   "id": "7d4c16af-0a58-4241-9669-e5e3e9035f6e",
   "metadata": {},
   "outputs": [],
   "source": [
    "# функция для предвариетельного знакомства с таблицей(-ами)\n",
    "def data_viewer(**dfs):\n",
    "    for name, dfr in dfs.items():\n",
    "        print(color.BOLD + color.BLUE + color.UNDERLINE, 'Информация по таблице', name)\n",
    "        display(dfr.head(5))\n",
    "        print('Количество пропусков в таблице:' + color.BOLD, dfr.isna().sum().sum(), color.END)\n",
    "        dups = dfr.duplicated().sum().sum()\n",
    "        print('Количество явных дубликатов в таблице:', dfr.duplicated().sum().sum())\n",
    "        print()\n",
    "        print(dfr.info())\n",
    "        print()\n",
    "        \n",
    "# фкнция для приведения колонок к общепринятому \"змеиному\" регистру\n",
    "def camel_to_snake_case(lst):\n",
    "    updated_columns_list = []\n",
    "    for col in car_data.columns:\n",
    "        new_col = []\n",
    "        for i, letter in enumerate(col):\n",
    "            if i == 0:\n",
    "                new_col.append(letter.lower())\n",
    "            elif letter.isupper():\n",
    "                new_col.append(f'_{letter.lower()}')\n",
    "            else:\n",
    "                new_col.append(letter)\n",
    "        updated_columns_list.append(''.join(new_col))\n",
    "    return updated_columns_list\n",
    "    \n",
    "\n",
    "# функция для проврки уникальных значений качественных признаков\n",
    "# я ее использую, чтобы наглядно посмотреть есть ли неявные дубликаты\n",
    "def unique_check(**dfs):\n",
    "    for df_name, df in dfs.items():\n",
    "        categorical = df.select_dtypes('O').columns\n",
    "        for column in categorical:\n",
    "            unique_list = df.loc[~df[column].isna(), column].unique()\n",
    "            print(f'{color.BOLD}Датафрейм {color.BLUE}{df_name}{color.END}{color.BOLD}. \\\n",
    "            \\nКолонка {color.BLUE}{column}{color.END + color.BOLD} - ее уникальные значения {color.END}{(sorted(unique_list))}. \\\n",
    "            \\nВсего уникальных значений {len(unique_list)}.\\n')\n",
    "        print()"
   ]
  },
  {
   "cell_type": "code",
   "execution_count": 5,
   "id": "189bcffe-c072-4ae2-aa2e-575452e08f0f",
   "metadata": {},
   "outputs": [],
   "source": [
    "apparel_messages = pd.read_csv('filtered_data/apparel-messages.csv')\n",
    "apparel_purchases = pd.read_csv('filtered_data/apparel-purchases.csv')\n",
    "apparel_target_binary = pd.read_csv('filtered_data/apparel-target_binary.csv')\n",
    "full_campaign_daily_event_channel = pd.read_csv('filtered_data/full_campaign_daily_event_channel.csv')\n",
    "full_campaign_daily_event = pd.read_csv('filtered_data/full_campaign_daily_event.csv')"
   ]
  },
  {
   "cell_type": "code",
   "execution_count": 6,
   "id": "770581c0-876c-45cb-8690-86e6aac1643f",
   "metadata": {},
   "outputs": [
    {
     "name": "stdout",
     "output_type": "stream",
     "text": [
      "\u001b[1m\u001b[94m\u001b[4m Информация по таблице apparel_messages\n"
     ]
    },
    {
     "data": {
      "text/html": [
       "<div>\n",
       "<style scoped>\n",
       "    .dataframe tbody tr th:only-of-type {\n",
       "        vertical-align: middle;\n",
       "    }\n",
       "\n",
       "    .dataframe tbody tr th {\n",
       "        vertical-align: top;\n",
       "    }\n",
       "\n",
       "    .dataframe thead th {\n",
       "        text-align: right;\n",
       "    }\n",
       "</style>\n",
       "<table border=\"1\" class=\"dataframe\">\n",
       "  <thead>\n",
       "    <tr style=\"text-align: right;\">\n",
       "      <th></th>\n",
       "      <th>bulk_campaign_id</th>\n",
       "      <th>client_id</th>\n",
       "      <th>message_id</th>\n",
       "      <th>event</th>\n",
       "      <th>channel</th>\n",
       "      <th>date</th>\n",
       "      <th>created_at</th>\n",
       "    </tr>\n",
       "  </thead>\n",
       "  <tbody>\n",
       "    <tr>\n",
       "      <th>0</th>\n",
       "      <td>4439</td>\n",
       "      <td>1515915625626736623</td>\n",
       "      <td>1515915625626736623-4439-6283415ac07ea</td>\n",
       "      <td>open</td>\n",
       "      <td>email</td>\n",
       "      <td>2022-05-19</td>\n",
       "      <td>2022-05-19 00:14:20</td>\n",
       "    </tr>\n",
       "    <tr>\n",
       "      <th>1</th>\n",
       "      <td>4439</td>\n",
       "      <td>1515915625490086521</td>\n",
       "      <td>1515915625490086521-4439-62834150016dd</td>\n",
       "      <td>open</td>\n",
       "      <td>email</td>\n",
       "      <td>2022-05-19</td>\n",
       "      <td>2022-05-19 00:39:34</td>\n",
       "    </tr>\n",
       "    <tr>\n",
       "      <th>2</th>\n",
       "      <td>4439</td>\n",
       "      <td>1515915625553578558</td>\n",
       "      <td>1515915625553578558-4439-6283415b36b4f</td>\n",
       "      <td>open</td>\n",
       "      <td>email</td>\n",
       "      <td>2022-05-19</td>\n",
       "      <td>2022-05-19 00:51:49</td>\n",
       "    </tr>\n",
       "    <tr>\n",
       "      <th>3</th>\n",
       "      <td>4439</td>\n",
       "      <td>1515915625553578558</td>\n",
       "      <td>1515915625553578558-4439-6283415b36b4f</td>\n",
       "      <td>click</td>\n",
       "      <td>email</td>\n",
       "      <td>2022-05-19</td>\n",
       "      <td>2022-05-19 00:52:20</td>\n",
       "    </tr>\n",
       "    <tr>\n",
       "      <th>4</th>\n",
       "      <td>4439</td>\n",
       "      <td>1515915625471518311</td>\n",
       "      <td>1515915625471518311-4439-628341570c133</td>\n",
       "      <td>open</td>\n",
       "      <td>email</td>\n",
       "      <td>2022-05-19</td>\n",
       "      <td>2022-05-19 00:56:52</td>\n",
       "    </tr>\n",
       "  </tbody>\n",
       "</table>\n",
       "</div>"
      ],
      "text/plain": [
       "   bulk_campaign_id            client_id  \\\n",
       "0              4439  1515915625626736623   \n",
       "1              4439  1515915625490086521   \n",
       "2              4439  1515915625553578558   \n",
       "3              4439  1515915625553578558   \n",
       "4              4439  1515915625471518311   \n",
       "\n",
       "                               message_id  event channel        date  \\\n",
       "0  1515915625626736623-4439-6283415ac07ea   open   email  2022-05-19   \n",
       "1  1515915625490086521-4439-62834150016dd   open   email  2022-05-19   \n",
       "2  1515915625553578558-4439-6283415b36b4f   open   email  2022-05-19   \n",
       "3  1515915625553578558-4439-6283415b36b4f  click   email  2022-05-19   \n",
       "4  1515915625471518311-4439-628341570c133   open   email  2022-05-19   \n",
       "\n",
       "            created_at  \n",
       "0  2022-05-19 00:14:20  \n",
       "1  2022-05-19 00:39:34  \n",
       "2  2022-05-19 00:51:49  \n",
       "3  2022-05-19 00:52:20  \n",
       "4  2022-05-19 00:56:52  "
      ]
     },
     "metadata": {},
     "output_type": "display_data"
    },
    {
     "name": "stdout",
     "output_type": "stream",
     "text": [
      "Количество пропусков в таблице:\u001b[1m 0 \u001b[0m\n",
      "Количество явных дубликатов в таблице: 48610\n",
      "\n",
      "<class 'pandas.core.frame.DataFrame'>\n",
      "RangeIndex: 12739798 entries, 0 to 12739797\n",
      "Data columns (total 7 columns):\n",
      " #   Column            Dtype \n",
      "---  ------            ----- \n",
      " 0   bulk_campaign_id  int64 \n",
      " 1   client_id         int64 \n",
      " 2   message_id        object\n",
      " 3   event             object\n",
      " 4   channel           object\n",
      " 5   date              object\n",
      " 6   created_at        object\n",
      "dtypes: int64(2), object(5)\n",
      "memory usage: 680.4+ MB\n",
      "None\n",
      "\n",
      "\u001b[1m\u001b[94m\u001b[4m Информация по таблице apparel_purchases\n"
     ]
    },
    {
     "data": {
      "text/html": [
       "<div>\n",
       "<style scoped>\n",
       "    .dataframe tbody tr th:only-of-type {\n",
       "        vertical-align: middle;\n",
       "    }\n",
       "\n",
       "    .dataframe tbody tr th {\n",
       "        vertical-align: top;\n",
       "    }\n",
       "\n",
       "    .dataframe thead th {\n",
       "        text-align: right;\n",
       "    }\n",
       "</style>\n",
       "<table border=\"1\" class=\"dataframe\">\n",
       "  <thead>\n",
       "    <tr style=\"text-align: right;\">\n",
       "      <th></th>\n",
       "      <th>client_id</th>\n",
       "      <th>quantity</th>\n",
       "      <th>price</th>\n",
       "      <th>category_ids</th>\n",
       "      <th>date</th>\n",
       "      <th>message_id</th>\n",
       "    </tr>\n",
       "  </thead>\n",
       "  <tbody>\n",
       "    <tr>\n",
       "      <th>0</th>\n",
       "      <td>1515915625468169594</td>\n",
       "      <td>1</td>\n",
       "      <td>1999.0</td>\n",
       "      <td>['4', '28', '57', '431']</td>\n",
       "      <td>2022-05-16</td>\n",
       "      <td>1515915625468169594-4301-627b661e9736d</td>\n",
       "    </tr>\n",
       "    <tr>\n",
       "      <th>1</th>\n",
       "      <td>1515915625468169594</td>\n",
       "      <td>1</td>\n",
       "      <td>2499.0</td>\n",
       "      <td>['4', '28', '57', '431']</td>\n",
       "      <td>2022-05-16</td>\n",
       "      <td>1515915625468169594-4301-627b661e9736d</td>\n",
       "    </tr>\n",
       "    <tr>\n",
       "      <th>2</th>\n",
       "      <td>1515915625471138230</td>\n",
       "      <td>1</td>\n",
       "      <td>6499.0</td>\n",
       "      <td>['4', '28', '57', '431']</td>\n",
       "      <td>2022-05-16</td>\n",
       "      <td>1515915625471138230-4437-6282242f27843</td>\n",
       "    </tr>\n",
       "    <tr>\n",
       "      <th>3</th>\n",
       "      <td>1515915625471138230</td>\n",
       "      <td>1</td>\n",
       "      <td>4999.0</td>\n",
       "      <td>['4', '28', '244', '432']</td>\n",
       "      <td>2022-05-16</td>\n",
       "      <td>1515915625471138230-4437-6282242f27843</td>\n",
       "    </tr>\n",
       "    <tr>\n",
       "      <th>4</th>\n",
       "      <td>1515915625471138230</td>\n",
       "      <td>1</td>\n",
       "      <td>4999.0</td>\n",
       "      <td>['4', '28', '49', '413']</td>\n",
       "      <td>2022-05-16</td>\n",
       "      <td>1515915625471138230-4437-6282242f27843</td>\n",
       "    </tr>\n",
       "  </tbody>\n",
       "</table>\n",
       "</div>"
      ],
      "text/plain": [
       "             client_id  quantity   price               category_ids  \\\n",
       "0  1515915625468169594         1  1999.0   ['4', '28', '57', '431']   \n",
       "1  1515915625468169594         1  2499.0   ['4', '28', '57', '431']   \n",
       "2  1515915625471138230         1  6499.0   ['4', '28', '57', '431']   \n",
       "3  1515915625471138230         1  4999.0  ['4', '28', '244', '432']   \n",
       "4  1515915625471138230         1  4999.0   ['4', '28', '49', '413']   \n",
       "\n",
       "         date                              message_id  \n",
       "0  2022-05-16  1515915625468169594-4301-627b661e9736d  \n",
       "1  2022-05-16  1515915625468169594-4301-627b661e9736d  \n",
       "2  2022-05-16  1515915625471138230-4437-6282242f27843  \n",
       "3  2022-05-16  1515915625471138230-4437-6282242f27843  \n",
       "4  2022-05-16  1515915625471138230-4437-6282242f27843  "
      ]
     },
     "metadata": {},
     "output_type": "display_data"
    },
    {
     "name": "stdout",
     "output_type": "stream",
     "text": [
      "Количество пропусков в таблице:\u001b[1m 0 \u001b[0m\n",
      "Количество явных дубликатов в таблице: 73020\n",
      "\n",
      "<class 'pandas.core.frame.DataFrame'>\n",
      "RangeIndex: 202208 entries, 0 to 202207\n",
      "Data columns (total 6 columns):\n",
      " #   Column        Non-Null Count   Dtype  \n",
      "---  ------        --------------   -----  \n",
      " 0   client_id     202208 non-null  int64  \n",
      " 1   quantity      202208 non-null  int64  \n",
      " 2   price         202208 non-null  float64\n",
      " 3   category_ids  202208 non-null  object \n",
      " 4   date          202208 non-null  object \n",
      " 5   message_id    202208 non-null  object \n",
      "dtypes: float64(1), int64(2), object(3)\n",
      "memory usage: 9.3+ MB\n",
      "None\n",
      "\n",
      "\u001b[1m\u001b[94m\u001b[4m Информация по таблице apparel_target_binary\n"
     ]
    },
    {
     "data": {
      "text/html": [
       "<div>\n",
       "<style scoped>\n",
       "    .dataframe tbody tr th:only-of-type {\n",
       "        vertical-align: middle;\n",
       "    }\n",
       "\n",
       "    .dataframe tbody tr th {\n",
       "        vertical-align: top;\n",
       "    }\n",
       "\n",
       "    .dataframe thead th {\n",
       "        text-align: right;\n",
       "    }\n",
       "</style>\n",
       "<table border=\"1\" class=\"dataframe\">\n",
       "  <thead>\n",
       "    <tr style=\"text-align: right;\">\n",
       "      <th></th>\n",
       "      <th>client_id</th>\n",
       "      <th>target</th>\n",
       "    </tr>\n",
       "  </thead>\n",
       "  <tbody>\n",
       "    <tr>\n",
       "      <th>0</th>\n",
       "      <td>1515915625468060902</td>\n",
       "      <td>0</td>\n",
       "    </tr>\n",
       "    <tr>\n",
       "      <th>1</th>\n",
       "      <td>1515915625468061003</td>\n",
       "      <td>1</td>\n",
       "    </tr>\n",
       "    <tr>\n",
       "      <th>2</th>\n",
       "      <td>1515915625468061099</td>\n",
       "      <td>0</td>\n",
       "    </tr>\n",
       "    <tr>\n",
       "      <th>3</th>\n",
       "      <td>1515915625468061100</td>\n",
       "      <td>0</td>\n",
       "    </tr>\n",
       "    <tr>\n",
       "      <th>4</th>\n",
       "      <td>1515915625468061170</td>\n",
       "      <td>0</td>\n",
       "    </tr>\n",
       "  </tbody>\n",
       "</table>\n",
       "</div>"
      ],
      "text/plain": [
       "             client_id  target\n",
       "0  1515915625468060902       0\n",
       "1  1515915625468061003       1\n",
       "2  1515915625468061099       0\n",
       "3  1515915625468061100       0\n",
       "4  1515915625468061170       0"
      ]
     },
     "metadata": {},
     "output_type": "display_data"
    },
    {
     "name": "stdout",
     "output_type": "stream",
     "text": [
      "Количество пропусков в таблице:\u001b[1m 0 \u001b[0m\n",
      "Количество явных дубликатов в таблице: 0\n",
      "\n",
      "<class 'pandas.core.frame.DataFrame'>\n",
      "RangeIndex: 49849 entries, 0 to 49848\n",
      "Data columns (total 2 columns):\n",
      " #   Column     Non-Null Count  Dtype\n",
      "---  ------     --------------  -----\n",
      " 0   client_id  49849 non-null  int64\n",
      " 1   target     49849 non-null  int64\n",
      "dtypes: int64(2)\n",
      "memory usage: 779.0 KB\n",
      "None\n",
      "\n"
     ]
    }
   ],
   "source": [
    "data_viewer(apparel_messages=apparel_messages, \n",
    "            apparel_purchases=apparel_purchases, \n",
    "            apparel_target_binary=apparel_target_binary)"
   ]
  },
  {
   "cell_type": "markdown",
   "id": "b198ae7d-889a-42aa-a445-bed18826ab38",
   "metadata": {},
   "source": [
    "Дубликаты в таблице apparel_messages будут удалены."
   ]
  },
  {
   "cell_type": "code",
   "execution_count": 7,
   "id": "6fbae7f3-5a8a-4382-9f51-d636a32828f0",
   "metadata": {},
   "outputs": [],
   "source": [
    "apparel_messages = apparel_messages.drop_duplicates()"
   ]
  },
  {
   "cell_type": "markdown",
   "id": "3825c63b-ed32-4c48-b90c-7c46cf626d68",
   "metadata": {},
   "source": [
    "Призакам, характеризующим время, будет присвоен соответствующий тип данных."
   ]
  },
  {
   "cell_type": "code",
   "execution_count": 8,
   "id": "2cc13d99-7f51-4cef-aadb-62851276e4f6",
   "metadata": {},
   "outputs": [],
   "source": [
    "apparel_messages['date'] = pd.to_datetime(apparel_messages['date'])\n",
    "apparel_messages['created_at'] = pd.to_datetime(apparel_messages['created_at'])\n",
    "apparel_purchases['date'] = pd.to_datetime(apparel_purchases['date'])"
   ]
  },
  {
   "cell_type": "markdown",
   "id": "e3bb359a-c72b-4f82-936c-28059897d940",
   "metadata": {},
   "source": [
    "Датасет для обучения моделей классификации пользователей будет иметь следующие признаки:\n",
    "* **main_channel_communication** - основной канал взаимодействия с пользователем\n",
    "* **mean_message_to_purchase_conversion** - среднее количество покупок с одного рекламного сообщения. Ввиду того, что данный признак будет иметь множество выбросов, кластеризауем его на 3 категории:\n",
    "    * *one_purchase* - одна покупка\n",
    "    * *some_purchases* - несколько покупок (от 2 до 5)\n",
    "    * *a_lot_of_purchases* - много покупок (более 6)\n",
    "* **average_bill** - средний чек пользователя. Аналогично будет разделен на:\n",
    "    * *low* - до 700\n",
    "    * *medium* - от 700 до 2000\n",
    "    * *high* - от 2000 до 5000\n",
    "    * *very_high* - более 5000\n",
    "* Будет создан ряд признаков, характеризующих активность пользователя. Аналогично ввиду того, что данные признаки будут иметь большинство значений равных 0, признаки активности пользователя будут перевены в бинарные (была ли активность последние 100 дней, от 100 до 200, от 200 до 300 итд.). Всего в данных 641 день.\n",
    "* **open_rate** - частота открытий (количество открытий, отнесенное к количеству полученных сообщений (события open / события send))\n",
    "* **click_rate** - частота кликов (количество кликов, отнесенное к количеству полученных сообщений (события click / события send))\n",
    "* **purchase_rate** - частота покупок (количество покупок, отнесенное к количеству полученных сообщений (события purchase / события send))\n",
    "* **has_error** - наличие ошибок при отправке сообщений "
   ]
  },
  {
   "cell_type": "markdown",
   "id": "73aaf08a-4d69-4e3d-903f-9e998cbd569c",
   "metadata": {},
   "source": [
    "Предположение: дубликаты в данных таблицы apparel_purchases могли визникнуть из-за ошибки логирования информации корзины покупок, и на самом деле это не дубликат, а пользователь совершил покупку двух единиц товара. Поэтоу признак quantity можно полчинить групиировокой."
   ]
  },
  {
   "cell_type": "code",
   "execution_count": 9,
   "id": "0a8a4dee-e5b1-488c-8941-ef20e4002f12",
   "metadata": {},
   "outputs": [],
   "source": [
    "grouped_purchase_data = pd.pivot_table(data=apparel_purchases, \n",
    "                                       index=['client_id', 'message_id', 'date', 'category_ids', 'price'], \n",
    "                                       values=['quantity'], \n",
    "                                       aggfunc='sum') \\\n",
    "                          .reset_index()"
   ]
  },
  {
   "cell_type": "code",
   "execution_count": 10,
   "id": "831848f7-c5de-4274-8a82-3023526933ce",
   "metadata": {},
   "outputs": [],
   "source": [
    "# основной канал взаимодействия\n",
    "main_channel_communication = pd.pivot_table(data=apparel_messages, index='client_id', values='channel', aggfunc=lambda x: x.mode().iloc[0])['channel'] \\\n",
    "                               .rename('main_channel_communication')"
   ]
  },
  {
   "cell_type": "code",
   "execution_count": 11,
   "id": "6c696410-55ef-4b32-b542-3ee336cd94ed",
   "metadata": {},
   "outputs": [],
   "source": [
    "# издаю отдельную колонку с номером компании для последующей группировки\n",
    "grouped_purchase_data['campaign_num'] = grouped_purchase_data['message_id'].map(lambda x: x.split('-')[1])\n",
    "\n",
    "bins = [0, 2, 6, float('inf')]\n",
    "labels = ['one_purchase', 'some_purchases', 'a_lot_of_purchases']\n",
    "\n",
    "# среднее количество покупок с одного рекламного сообщения\n",
    "mean_message_to_purchase_conversion = grouped_purchase_data.groupby(['client_id', 'campaign_num'])['message_id'].count() \\\n",
    "                                                           .reset_index() \\\n",
    "                                                           .groupby('client_id')['message_id'].agg(lambda x: x.mode().iloc[0]) \\\n",
    "                                                           .rename('mean_message_to_purchase_conversion')\n",
    "\n",
    "mean_message_to_purchase_conversion = pd.cut(mean_message_to_purchase_conversion,\n",
    "                                             bins=bins,\n",
    "                                             labels=labels,\n",
    "                                             right=False)"
   ]
  },
  {
   "cell_type": "code",
   "execution_count": 12,
   "id": "0095df28-578b-4351-b035-c3f9e839d368",
   "metadata": {},
   "outputs": [],
   "source": [
    "# среднеий чек каждого пользователя\n",
    "intermediate_group = grouped_purchase_data.groupby('client_id')['price'].agg(['count', 'sum'])\n",
    "\n",
    "bins = [0, 700, 2000, 5000, float('inf')]\n",
    "labels = ['low', 'medium', 'high', 'very_high']\n",
    "average_bill = pd.cut(round(intermediate_group['sum'] / intermediate_group['count'], 2).rename('average_bill'),\n",
    "                      bins=bins,\n",
    "                      labels=labels,\n",
    "                      right=False)"
   ]
  },
  {
   "cell_type": "code",
   "execution_count": 13,
   "id": "6d6cf90a-0f85-41df-82b5-685f7b80847e",
   "metadata": {},
   "outputs": [
    {
     "data": {
      "text/plain": [
       "Timedelta('641 days 00:00:00')"
      ]
     },
     "execution_count": 13,
     "metadata": {},
     "output_type": "execute_result"
    }
   ],
   "source": [
    "max(apparel_purchases['date']) - min(apparel_purchases['date'])"
   ]
  },
  {
   "cell_type": "code",
   "execution_count": 14,
   "id": "e1f0864d-4bd7-4cf2-b8c2-442a976a8cdd",
   "metadata": {},
   "outputs": [],
   "source": [
    "latest_date = max(apparel_purchases['date'])\n",
    "\n",
    "days = {}\n",
    "for hundred_days in range(1, 6):\n",
    "    days[f'less_{100*hundred_days}_ago'] = latest_date - timedelta(days=100*hundred_days)\n",
    "\n",
    "def day_markers(date):\n",
    "    for marker, date_point in days.items():\n",
    "        if date_point < date:\n",
    "            return marker\n",
    "    return 'more_500_days_ago'"
   ]
  },
  {
   "cell_type": "code",
   "execution_count": 15,
   "id": "345a34d1-d1aa-485a-9e79-7494085460d1",
   "metadata": {},
   "outputs": [],
   "source": [
    "grouped_purchase_data['date_markers'] = grouped_purchase_data['date'].apply(day_markers)\n",
    "grouped_purchase_data['final_price'] = grouped_purchase_data['price'] * grouped_purchase_data['quantity']\n",
    "\n",
    "marker_date_purchase_data = pd.pivot_table(data=grouped_purchase_data, \n",
    "                                           index='client_id', \n",
    "                                           columns='date_markers', \n",
    "                                           values='final_price', \n",
    "                                           aggfunc='sum')\n",
    "\n",
    "for col in marker_date_purchase_data.columns:\n",
    "    marker_date_purchase_data.loc[:, col] = marker_date_purchase_data.loc[:, col].map(lambda x: int(x > 0))"
   ]
  },
  {
   "cell_type": "code",
   "execution_count": 16,
   "id": "1552ea1b-6589-4da0-9c47-689fb1e414ba",
   "metadata": {},
   "outputs": [],
   "source": [
    "event_rate_data = pd.pivot_table(data=apparel_messages, index='client_id', columns='event', values='message_id', aggfunc='count')\n",
    "\n",
    "event_rate_data['open_rate'] = round(event_rate_data['open'] / event_rate_data['send'], 4)\n",
    "event_rate_data['click_rate'] = round(event_rate_data['click'] / event_rate_data['send'], 4)\n",
    "event_rate_data['purchase_rate'] = round(event_rate_data['purchase'] / event_rate_data['send'], 4)\n",
    "event_rate_data['has_error'] = ((event_rate_data['hard_bounce'] + \n",
    "                                                 event_rate_data['soft_bounce']\n",
    "                                                ) / event_rate_data['send']).map(lambda x: int(x > 0))"
   ]
  },
  {
   "cell_type": "code",
   "execution_count": 17,
   "id": "2164e08a-4841-44f9-bace-ff05e9bf7870",
   "metadata": {},
   "outputs": [],
   "source": [
    "df = apparel_target_binary.merge(main_channel_communication, how='left', on='client_id') \\\n",
    "                          .merge(mean_message_to_purchase_conversion, how='left', on='client_id') \\\n",
    "                          .merge(average_bill, how='left', on='client_id') \\\n",
    "                          .merge(event_rate_data[['open_rate', 'click_rate', 'purchase_rate', 'has_error']], \n",
    "                                 how='left', on='client_id') \\\n",
    "                          .merge(marker_date_purchase_data, how='left', on='client_id')"
   ]
  },
  {
   "cell_type": "code",
   "execution_count": 18,
   "id": "ccfdd0df-4d2a-45e3-b23f-bd0e15112bd7",
   "metadata": {},
   "outputs": [
    {
     "data": {
      "text/plain": [
       "client_id                                  0\n",
       "target                                     0\n",
       "main_channel_communication              7867\n",
       "mean_message_to_purchase_conversion        0\n",
       "average_bill                               0\n",
       "open_rate                              15103\n",
       "click_rate                             10392\n",
       "purchase_rate                          12365\n",
       "has_error                               7867\n",
       "less_100_ago                               0\n",
       "less_200_ago                               0\n",
       "less_300_ago                               0\n",
       "less_400_ago                               0\n",
       "less_500_ago                               0\n",
       "more_500_days_ago                          0\n",
       "dtype: int64"
      ]
     },
     "execution_count": 18,
     "metadata": {},
     "output_type": "execute_result"
    }
   ],
   "source": [
    "df.isna().sum()"
   ]
  },
  {
   "cell_type": "code",
   "execution_count": 19,
   "id": "7f0243cd-3979-45dd-8430-4f8318236f2f",
   "metadata": {},
   "outputs": [],
   "source": [
    "df['main_channel_communication'] = df['main_channel_communication'].fillna('unknown')\n",
    "for col in ['open_rate', 'click_rate', 'purchase_rate', 'has_error']:\n",
    "    df[col] = df[col].fillna(0)"
   ]
  },
  {
   "cell_type": "code",
   "execution_count": 20,
   "id": "fccefe71-8973-458e-bcb7-43004d06b27c",
   "metadata": {},
   "outputs": [
    {
     "data": {
      "image/png": "[encoded data removed]",
      "text/plain": [
       "<Figure size 1000x700 with 2 Axes>"
      ]
     },
     "metadata": {},
     "output_type": "display_data"
    }
   ],
   "source": [
    "fig, axs = plt.subplots(1, 1, figsize=(10, 7))\n",
    "phic_matrix = df.drop('client_id', axis=1).phik_matrix(interval_cols=['open_rate',\n",
    "                                                                      'click_rate', \n",
    "                                                                      'purchase_rate']\n",
    "                                                      )\n",
    "sns.heatmap(phic_matrix, annot=True, cmap='Greens', fmt=\".3f\")\n",
    "plt.show()"
   ]
  },
  {
   "cell_type": "markdown",
   "id": "23207351-66c9-423f-be8e-5e8c9c669668",
   "metadata": {},
   "source": [
    "Мультиколлинеарность отсутствует, но, к сожалению, зависимость между входными и целевыми признакам - слабая."
   ]
  },
  {
   "cell_type": "markdown",
   "id": "1444d989-a674-4384-92fd-e6ad706a63e2",
   "metadata": {},
   "source": [
    "## Обучение моделей"
   ]
  },
  {
   "cell_type": "code",
   "execution_count": 22,
   "id": "973aacd5-aa32-41cd-8f13-d0cb856d2d91",
   "metadata": {},
   "outputs": [
    {
     "name": "stdout",
     "output_type": "stream",
     "text": [
      "После отфильтровывания дубликатов, которые появятся из-за удаления client_id удалено: 8690 строк\n"
     ]
    }
   ],
   "source": [
    "start_size = df.shape[0]\n",
    "df = df[~df.drop('client_id', axis=1).duplicated()]\n",
    "end_size = df.shape[0]\n",
    "print(f'После отфильтровывания дубликатов, которые появятся из-за удаления client_id удалено: {start_size - end_size} строк')"
   ]
  },
  {
   "cell_type": "code",
   "execution_count": 23,
   "id": "802f3489-4910-48d8-a283-d1ac3d6aa72d",
   "metadata": {},
   "outputs": [],
   "source": [
    "X = df.drop(['client_id', 'target'], axis=1)\n",
    "y = df['target']"
   ]
  },
  {
   "cell_type": "code",
   "execution_count": 24,
   "id": "fc6a6ea1-babb-4a1f-bdbe-b335f7bdddc4",
   "metadata": {},
   "outputs": [],
   "source": [
    "X_train, X_test, y_train, y_test = train_test_split(X, y, test_size = 0.25, stratify=y, random_state = RANDOM_STATE)"
   ]
  },
  {
   "cell_type": "code",
   "execution_count": 26,
   "id": "fc73a014-a581-49b0-92be-23ab730bdffe",
   "metadata": {},
   "outputs": [],
   "source": [
    "ohe_cols = ['main_channel_communication',\n",
    "       'mean_message_to_purchase_conversion', 'average_bill', 'less_100_ago',\n",
    "       'less_200_ago', 'less_300_ago', 'less_400_ago', 'less_500_ago', 'more_500_days_ago', 'has_error']\n",
    "num_cols = ['open_rate', 'click_rate', 'purchase_rate']\n",
    "\n",
    "ohe_pipe = Pipeline([\n",
    "    (\n",
    "        'simpleimputer_before_ohe', \n",
    "         SimpleImputer(missing_values=np.nan, strategy='most_frequent')\n",
    "    ),\n",
    "    (\n",
    "        'ohe', \n",
    "        OneHotEncoder(drop='first', handle_unknown='ignore', sparse_output=False)\n",
    "    ),\n",
    "    (\n",
    "        'simpleimputer_after_ohe', \n",
    "         SimpleImputer(missing_values=np.nan, strategy='most_frequent')\n",
    "    )\n",
    "])\n",
    "\n",
    "#пайплайн для подготовки данных\n",
    "data_preprocessor = ColumnTransformer([\n",
    "    ('ohe', ohe_pipe, ohe_cols),\n",
    "    ('num', StandardScaler(), num_cols)\n",
    "], remainder='passthrough')"
   ]
  },
  {
   "cell_type": "code",
   "execution_count": 27,
   "id": "ee2517fe-9d65-4dd9-b051-67d826dea97f",
   "metadata": {},
   "outputs": [],
   "source": [
    "pipeline = Pipeline([\n",
    "    ('preprocessor', data_preprocessor),\n",
    "    ('models', LogisticRegression(random_state=RANDOM_STATE))\n",
    "])"
   ]
  },
  {
   "cell_type": "code",
   "execution_count": 28,
   "id": "83b570e0-f75f-47bf-bd18-ab6c30acb8ba",
   "metadata": {},
   "outputs": [],
   "source": [
    "param_grid = [\n",
    "    # словарь для модели DecisionTreeClassifier\n",
    "    {\n",
    "        'models':[DecisionTreeClassifier(random_state=RANDOM_STATE)],\n",
    "        'preprocessor__num':['passthrough']            \n",
    "    },\n",
    "    # словарь для модели RandomForestClassifier    \n",
    "    {\n",
    "    'models': [RandomForestClassifier(class_weight='balanced', random_state=RANDOM_STATE)],\n",
    "\n",
    "        'preprocessor__num':['passthrough']       \n",
    "    },    \n",
    "    # словарь для модели KNeighborsClassifier\n",
    "    {\n",
    "        'models':[KNeighborsClassifier()]\n",
    "    },\n",
    "        # словарь для модели LGBMClassifier\n",
    "    {\n",
    "        'models':[LGBMClassifier(class_weight='balanced', verbose=-1, random_state=RANDOM_STATE)],\n",
    "        'preprocessor__num':['passthrough']\n",
    "    },\n",
    "        # словарь для модели CatBoostClassifier\n",
    "    {\n",
    "        'models':[CatBoostClassifier(auto_class_weights='Balanced', verbose=0, random_state=RANDOM_STATE)],\n",
    "        'preprocessor__num':['passthrough']\n",
    "    },\n",
    "        # словарь для модели SGDClassifier\n",
    "    {\n",
    "        'models':[SGDClassifier(loss='modified_huber', class_weight='balanced', random_state=RANDOM_STATE)],\n",
    "    },\n",
    "    # словарь для модели LogisticRegression\n",
    "    {\n",
    "        'models': [LogisticRegression(penalty = 'l1',\n",
    "                                      solver='saga',\n",
    "                                      random_state=RANDOM_STATE,\n",
    "                                      class_weight='balanced')]\n",
    "    }\n",
    "]"
   ]
  },
  {
   "cell_type": "code",
   "execution_count": 29,
   "id": "4818e5c5-c491-451c-807c-400b38c2993a",
   "metadata": {},
   "outputs": [],
   "source": [
    "grid_search_class = GridSearchCV(pipeline, \n",
    "                                 param_grid, \n",
    "                                 cv=5, \n",
    "                                 n_jobs=-1,\n",
    "                                 scoring='roc_auc')"
   ]
  },
  {
   "cell_type": "code",
   "execution_count": 30,
   "id": "5b163d52-ae05-4262-a8cb-ef4f5f4b685f",
   "metadata": {},
   "outputs": [
    {
     "name": "stderr",
     "output_type": "stream",
     "text": [
      "C:\\Users\\HONOR\\.conda\\envs\\p\\Lib\\site-packages\\sklearn\\linear_model\\_sag.py:349: ConvergenceWarning: The max_iter was reached which means the coef_ did not converge\n",
      "  warnings.warn(\n"
     ]
    }
   ],
   "source": [
    "grid_search_class = grid_search_class.fit(X_train, y_train)"
   ]
  },
  {
   "cell_type": "code",
   "execution_count": 31,
   "id": "46895f31-ab11-4241-ba9f-27e00cc33933",
   "metadata": {},
   "outputs": [
    {
     "data": {
      "text/html": [
       "<div>\n",
       "<style scoped>\n",
       "    .dataframe tbody tr th:only-of-type {\n",
       "        vertical-align: middle;\n",
       "    }\n",
       "\n",
       "    .dataframe tbody tr th {\n",
       "        vertical-align: top;\n",
       "    }\n",
       "\n",
       "    .dataframe thead th {\n",
       "        text-align: right;\n",
       "    }\n",
       "</style>\n",
       "<table border=\"1\" class=\"dataframe\">\n",
       "  <thead>\n",
       "    <tr style=\"text-align: right;\">\n",
       "      <th></th>\n",
       "      <th>mean_fit_time</th>\n",
       "      <th>std_fit_time</th>\n",
       "      <th>mean_score_time</th>\n",
       "      <th>std_score_time</th>\n",
       "      <th>param_models</th>\n",
       "      <th>param_preprocessor__num</th>\n",
       "      <th>params</th>\n",
       "      <th>split0_test_score</th>\n",
       "      <th>split1_test_score</th>\n",
       "      <th>split2_test_score</th>\n",
       "      <th>split3_test_score</th>\n",
       "      <th>split4_test_score</th>\n",
       "      <th>mean_test_score</th>\n",
       "      <th>std_test_score</th>\n",
       "      <th>rank_test_score</th>\n",
       "    </tr>\n",
       "  </thead>\n",
       "  <tbody>\n",
       "    <tr>\n",
       "      <th>0</th>\n",
       "      <td>2.262808</td>\n",
       "      <td>0.361108</td>\n",
       "      <td>0.049763</td>\n",
       "      <td>0.003807</td>\n",
       "      <td>LogisticRegression(class_weight='balanced', pe...</td>\n",
       "      <td>NaN</td>\n",
       "      <td>{'models': LogisticRegression(class_weight='ba...</td>\n",
       "      <td>0.742601</td>\n",
       "      <td>0.764092</td>\n",
       "      <td>0.763221</td>\n",
       "      <td>0.746872</td>\n",
       "      <td>0.701038</td>\n",
       "      <td>0.743565</td>\n",
       "      <td>0.022926</td>\n",
       "      <td>1</td>\n",
       "    </tr>\n",
       "    <tr>\n",
       "      <th>1</th>\n",
       "      <td>10.992237</td>\n",
       "      <td>0.816586</td>\n",
       "      <td>0.049774</td>\n",
       "      <td>0.001906</td>\n",
       "      <td>LGBMClassifier(class_weight='balanced', random...</td>\n",
       "      <td>passthrough</td>\n",
       "      <td>{'models': LGBMClassifier(class_weight='balanc...</td>\n",
       "      <td>0.715909</td>\n",
       "      <td>0.691333</td>\n",
       "      <td>0.742022</td>\n",
       "      <td>0.694819</td>\n",
       "      <td>0.714392</td>\n",
       "      <td>0.711695</td>\n",
       "      <td>0.018134</td>\n",
       "      <td>2</td>\n",
       "    </tr>\n",
       "    <tr>\n",
       "      <th>2</th>\n",
       "      <td>0.578735</td>\n",
       "      <td>0.041937</td>\n",
       "      <td>0.033300</td>\n",
       "      <td>0.000468</td>\n",
       "      <td>SGDClassifier(class_weight='balanced', loss='m...</td>\n",
       "      <td>NaN</td>\n",
       "      <td>{'models': SGDClassifier(class_weight='balance...</td>\n",
       "      <td>0.600539</td>\n",
       "      <td>0.719572</td>\n",
       "      <td>0.703822</td>\n",
       "      <td>0.711730</td>\n",
       "      <td>0.639937</td>\n",
       "      <td>0.675120</td>\n",
       "      <td>0.046777</td>\n",
       "      <td>3</td>\n",
       "    </tr>\n",
       "    <tr>\n",
       "      <th>3</th>\n",
       "      <td>14.719951</td>\n",
       "      <td>0.251241</td>\n",
       "      <td>0.073546</td>\n",
       "      <td>0.011027</td>\n",
       "      <td>&lt;catboost.core.CatBoostClassifier object at 0x...</td>\n",
       "      <td>passthrough</td>\n",
       "      <td>{'models': &lt;catboost.core.CatBoostClassifier o...</td>\n",
       "      <td>0.663272</td>\n",
       "      <td>0.654839</td>\n",
       "      <td>0.688518</td>\n",
       "      <td>0.647435</td>\n",
       "      <td>0.665156</td>\n",
       "      <td>0.663844</td>\n",
       "      <td>0.013865</td>\n",
       "      <td>4</td>\n",
       "    </tr>\n",
       "    <tr>\n",
       "      <th>4</th>\n",
       "      <td>3.118839</td>\n",
       "      <td>0.302303</td>\n",
       "      <td>0.135768</td>\n",
       "      <td>0.028148</td>\n",
       "      <td>RandomForestClassifier(class_weight='balanced'...</td>\n",
       "      <td>passthrough</td>\n",
       "      <td>{'models': RandomForestClassifier(class_weight...</td>\n",
       "      <td>0.653123</td>\n",
       "      <td>0.644553</td>\n",
       "      <td>0.659603</td>\n",
       "      <td>0.666354</td>\n",
       "      <td>0.662258</td>\n",
       "      <td>0.657178</td>\n",
       "      <td>0.007638</td>\n",
       "      <td>5</td>\n",
       "    </tr>\n",
       "    <tr>\n",
       "      <th>5</th>\n",
       "      <td>0.211032</td>\n",
       "      <td>0.019448</td>\n",
       "      <td>0.927643</td>\n",
       "      <td>0.089501</td>\n",
       "      <td>KNeighborsClassifier()</td>\n",
       "      <td>NaN</td>\n",
       "      <td>{'models': KNeighborsClassifier()}</td>\n",
       "      <td>0.567590</td>\n",
       "      <td>0.575984</td>\n",
       "      <td>0.556212</td>\n",
       "      <td>0.567286</td>\n",
       "      <td>0.558553</td>\n",
       "      <td>0.565125</td>\n",
       "      <td>0.007089</td>\n",
       "      <td>6</td>\n",
       "    </tr>\n",
       "    <tr>\n",
       "      <th>6</th>\n",
       "      <td>0.354351</td>\n",
       "      <td>0.006211</td>\n",
       "      <td>0.033462</td>\n",
       "      <td>0.002569</td>\n",
       "      <td>DecisionTreeClassifier(random_state=1000)</td>\n",
       "      <td>passthrough</td>\n",
       "      <td>{'models': DecisionTreeClassifier(random_state...</td>\n",
       "      <td>0.523233</td>\n",
       "      <td>0.521004</td>\n",
       "      <td>0.518815</td>\n",
       "      <td>0.520181</td>\n",
       "      <td>0.535187</td>\n",
       "      <td>0.523684</td>\n",
       "      <td>0.005928</td>\n",
       "      <td>7</td>\n",
       "    </tr>\n",
       "  </tbody>\n",
       "</table>\n",
       "</div>"
      ],
      "text/plain": [
       "   mean_fit_time  std_fit_time  mean_score_time  std_score_time  \\\n",
       "0       2.262808      0.361108         0.049763        0.003807   \n",
       "1      10.992237      0.816586         0.049774        0.001906   \n",
       "2       0.578735      0.041937         0.033300        0.000468   \n",
       "3      14.719951      0.251241         0.073546        0.011027   \n",
       "4       3.118839      0.302303         0.135768        0.028148   \n",
       "5       0.211032      0.019448         0.927643        0.089501   \n",
       "6       0.354351      0.006211         0.033462        0.002569   \n",
       "\n",
       "                                        param_models param_preprocessor__num  \\\n",
       "0  LogisticRegression(class_weight='balanced', pe...                     NaN   \n",
       "1  LGBMClassifier(class_weight='balanced', random...             passthrough   \n",
       "2  SGDClassifier(class_weight='balanced', loss='m...                     NaN   \n",
       "3  <catboost.core.CatBoostClassifier object at 0x...             passthrough   \n",
       "4  RandomForestClassifier(class_weight='balanced'...             passthrough   \n",
       "5                             KNeighborsClassifier()                     NaN   \n",
       "6          DecisionTreeClassifier(random_state=1000)             passthrough   \n",
       "\n",
       "                                              params  split0_test_score  \\\n",
       "0  {'models': LogisticRegression(class_weight='ba...           0.742601   \n",
       "1  {'models': LGBMClassifier(class_weight='balanc...           0.715909   \n",
       "2  {'models': SGDClassifier(class_weight='balance...           0.600539   \n",
       "3  {'models': <catboost.core.CatBoostClassifier o...           0.663272   \n",
       "4  {'models': RandomForestClassifier(class_weight...           0.653123   \n",
       "5                 {'models': KNeighborsClassifier()}           0.567590   \n",
       "6  {'models': DecisionTreeClassifier(random_state...           0.523233   \n",
       "\n",
       "   split1_test_score  split2_test_score  split3_test_score  split4_test_score  \\\n",
       "0           0.764092           0.763221           0.746872           0.701038   \n",
       "1           0.691333           0.742022           0.694819           0.714392   \n",
       "2           0.719572           0.703822           0.711730           0.639937   \n",
       "3           0.654839           0.688518           0.647435           0.665156   \n",
       "4           0.644553           0.659603           0.666354           0.662258   \n",
       "5           0.575984           0.556212           0.567286           0.558553   \n",
       "6           0.521004           0.518815           0.520181           0.535187   \n",
       "\n",
       "   mean_test_score  std_test_score  rank_test_score  \n",
       "0         0.743565        0.022926                1  \n",
       "1         0.711695        0.018134                2  \n",
       "2         0.675120        0.046777                3  \n",
       "3         0.663844        0.013865                4  \n",
       "4         0.657178        0.007638                5  \n",
       "5         0.565125        0.007089                6  \n",
       "6         0.523684        0.005928                7  "
      ]
     },
     "execution_count": 31,
     "metadata": {},
     "output_type": "execute_result"
    }
   ],
   "source": [
    "class_result = pd.DataFrame(grid_search_class.cv_results_).sort_values('rank_test_score').reset_index(drop=True)\n",
    "class_result"
   ]
  },
  {
   "cell_type": "code",
   "execution_count": 32,
   "id": "f6e24b98-8a2c-42f2-87e5-a13dfd2be606",
   "metadata": {},
   "outputs": [],
   "source": [
    "X_train_transformed = pd.DataFrame(data_preprocessor.fit_transform(X_train), columns=data_preprocessor.get_feature_names_out())\n",
    "X_test_transformed = pd.DataFrame(data_preprocessor.transform(X_test), columns=data_preprocessor.get_feature_names_out())"
   ]
  },
  {
   "cell_type": "raw",
   "id": "416e1704-0202-4df9-b815-4451f72fbefc",
   "metadata": {},
   "source": [
    "def objective_lgbm(trial):\n",
    "    params = {\n",
    "        'n_estimators': trial.suggest_int('n_estimators', 500, 1300, step=50),\n",
    "        'max_depth': trial.suggest_int('max_depth', 4, 10),\n",
    "        'learning_rate': trial.suggest_float('learning_rate', 0.01, 0.1, log=True),\n",
    "        'num_leaves': trial.suggest_int('num_leaves', 20, 100, step=10),\n",
    "        'min_child_samples': trial.suggest_int('min_child_samples', 5, 40, step=5),\n",
    "        'subsample': trial.suggest_float('subsample', 0.5, 1.0),\n",
    "        'colsample_bytree': trial.suggest_float('colsample_bytree', 0.5, 1.0),\n",
    "        'reg_alpha': trial.suggest_float('reg_alpha', 1e-2, 10.0, log=True),\n",
    "        'reg_lambda': trial.suggest_float('reg_lambda', 1e-2, 10.0, log=True),\n",
    "    }\n",
    "\n",
    "    model = LGBMClassifier(**params, \n",
    "                            class_weight='balanced',\n",
    "                          verbose=-1, \n",
    "                          random_state=RANDOM_STATE)\n",
    "\n",
    "    score = cross_val_score(model, X_train_transformed, y_train, cv=5, n_jobs=-1, scoring='roc_auc').mean()\n",
    "    return score  \n",
    "\n",
    "def objective_logreg(trial):\n",
    "    params = {\n",
    "        \"C\": trial.suggest_float('C', 1e-3, 1e3, log=True)\n",
    "}\n",
    "\n",
    "\n",
    "    model = LogisticRegression(**params,\n",
    "                               penalty = 'l1',\n",
    "                               solver='saga',\n",
    "                               random_state=RANDOM_STATE,\n",
    "                               class_weight='balanced'\n",
    "                              )\n",
    "    score = cross_val_score(model, X_train_transformed, y_train, cv=5, n_jobs=-1, scoring='roc_auc').mean()\n",
    "    return score\n",
    "\n",
    "def objective(trial):\n",
    "    params = {\n",
    "        'loss': trial.suggest_categorical('loss', [\n",
    "            'log_loss', \n",
    "            'modified_huber' \n",
    "        ]),\n",
    "        'penalty': trial.suggest_categorical('penalty', ['l1', 'l2', 'elasticnet']),\n",
    "        'alpha': trial.suggest_float('alpha', 1e-6, 1e-3, log=True),\n",
    "        'max_iter': trial.suggest_int('max_iter', 500, 2000),\n",
    "        'tol': trial.suggest_float('tol', 1e-5, 1e-3, log=True),\n",
    "        'learning_rate': trial.suggest_categorical('learning_rate', [\n",
    "            'constant', \n",
    "            'optimal', \n",
    "            'invscaling', \n",
    "            'adaptive'\n",
    "        ]),\n",
    "        'eta0': trial.suggest_float('eta0', 0.01, 0.3)\n",
    "    }\n",
    "\n",
    "    if params['penalty'] == 'elasticnet':\n",
    "        params['l1_ratio'] = trial.suggest_float('l1_ratio', 0.1, 0.9)\n",
    "\n",
    "    model = SGDClassifier(**params, \n",
    "                          class_weight='balanced', \n",
    "                          random_state=RANDOM_STATE)\n",
    "    \n",
    "    score = cross_val_score(model, X_train_transformed, y_train, cv=5, n_jobs=-1, scoring='roc_auc').mean()\n",
    "    return score"
   ]
  },
  {
   "cell_type": "raw",
   "id": "3ecaf1e1-d25a-4a1d-967a-f765ac324939",
   "metadata": {},
   "source": [
    "# Оптимизация LGBM\n",
    "study_lgbm = optuna.create_study(direction=\"maximize\", study_name=\"LGBM Optimization\")\n",
    "study_lgbm.optimize(objective_lgbm, n_trials=50)"
   ]
  },
  {
   "cell_type": "raw",
   "id": "81951399-2324-499c-8e05-06b48d9d1121",
   "metadata": {},
   "source": [
    "# Оптимизация LogReg\n",
    "study_logreg = optuna.create_study(direction=\"maximize\", study_name=\"Logistic Regression Optimization\")\n",
    "study_logreg.optimize(objective_logreg, n_trials=20)"
   ]
  },
  {
   "cell_type": "raw",
   "id": "4057e05e-a6ea-4f42-91d5-1b04062e4781",
   "metadata": {},
   "source": [
    "# Оптимизация SGDClassifier\n",
    "study_sgdc = optuna.create_study(direction='maximize')\n",
    "study_sgdc.optimize(objective, n_trials=60, show_progress_bar=True)"
   ]
  },
  {
   "cell_type": "markdown",
   "id": "14bbeaaa-af7f-40aa-bcf7-13162a4734bb",
   "metadata": {},
   "source": [
    "Процесс подбора гиперпараметров запускать я не буду, просто перепишу полученные результаты, чтобы сэкономить время."
   ]
  },
  {
   "cell_type": "code",
   "execution_count": 33,
   "id": "47b3e949-277e-41d5-8662-3442d97f55dd",
   "metadata": {},
   "outputs": [],
   "source": [
    "lgbm_best_params = {'n_estimators': 1050,\n",
    " 'max_depth': 9,\n",
    " 'learning_rate': 0.010038630723096272,\n",
    " 'num_leaves': 20,\n",
    " 'min_child_samples': 10,\n",
    " 'subsample': 0.6585058836173159,\n",
    " 'colsample_bytree': 0.5739986283688562,\n",
    " 'reg_alpha': 0.027197156836264814,\n",
    " 'reg_lambda': 6.435036831806752}\n",
    "\n",
    "logreg_best_params = {'C': 11.661212903718607}\n",
    "\n",
    "sgdc_best_params = {'loss': 'log_loss',\n",
    " 'penalty': 'elasticnet',\n",
    " 'alpha': 0.00044058880163823177,\n",
    " 'max_iter': 1703,\n",
    " 'tol': 2.07523442110457e-05,\n",
    " 'learning_rate': 'adaptive',\n",
    " 'eta0': 0.04434679764320724,\n",
    " 'l1_ratio': 0.8882606479370829}"
   ]
  },
  {
   "cell_type": "code",
   "execution_count": 34,
   "id": "63ec77d2-a631-478f-bdc6-645a0581de0e",
   "metadata": {},
   "outputs": [],
   "source": [
    "models_dict = {'SGDClassifier': SGDClassifier(**sgdc_best_params, class_weight='balanced',  random_state=RANDOM_STATE),\n",
    "'LGBMClassifier': LGBMClassifier(**lgbm_best_params, class_weight='balanced', verbose=-1, random_state=RANDOM_STATE),\n",
    "'LogisticRegression': LogisticRegression(**logreg_best_params, penalty = 'l1', solver='saga', random_state=RANDOM_STATE, class_weight='balanced')}"
   ]
  },
  {
   "cell_type": "code",
   "execution_count": 35,
   "id": "cfe19c86-385a-48fb-9140-7ca3fdf7c8d4",
   "metadata": {},
   "outputs": [
    {
     "name": "stdout",
     "output_type": "stream",
     "text": [
      "ROC-AUC на кросс-валидации для модели SGDClassifier: 0.7438\n",
      "ROC-AUC на кросс-валидации для модели LGBMClassifier: 0.7301\n",
      "ROC-AUC на кросс-валидации для модели LogisticRegression: 0.7436\n"
     ]
    }
   ],
   "source": [
    "for name, model in models_dict.items():\n",
    "    cv_score = cross_val_score(model, X_train_transformed, y_train, cv=5, n_jobs=-1, scoring='roc_auc').mean()\n",
    "    print(f\"ROC-AUC на кросс-валидации для модели {name}: {cv_score:.4f}\")"
   ]
  },
  {
   "cell_type": "markdown",
   "id": "174ac14e-c974-4582-902d-9a334f42a49f",
   "metadata": {},
   "source": [
    "Целевой метрикой был ROC-AUC > 0,7. Наилучшей моделью по результатам кросс-валидации выбрана SGDClassifier. Именна она будет передана заказчику."
   ]
  },
  {
   "cell_type": "code",
   "execution_count": 36,
   "id": "7fe21f84-1f7a-41d1-9017-37de4e08a788",
   "metadata": {},
   "outputs": [
    {
     "name": "stdout",
     "output_type": "stream",
     "text": [
      "ROC-AUC лучшей модели на тестовой выборке: 0.7080901334806576\n"
     ]
    }
   ],
   "source": [
    "best_sgdc = SGDClassifier(**sgdc_best_params, class_weight='balanced',  random_state=RANDOM_STATE).fit(X_train_transformed, y_train)\n",
    "probabilities = best_sgdc.predict_proba(X_test_transformed)[:, 1]\n",
    "roc_auc = roc_auc_score(y_test, probabilities)\n",
    "print(f\"ROC-AUC лучшей модели на тестовой выборке: {roc_auc}\")"
   ]
  },
  {
   "cell_type": "markdown",
   "id": "37c07dbf-f8bf-4b9e-bbf2-11ef4582d15e",
   "metadata": {},
   "source": [
    "# Вывод:"
   ]
  },
  {
   "cell_type": "markdown",
   "id": "3001883f-8177-4620-96f3-7602d2d8f3dc",
   "metadata": {},
   "source": [
    "В ходе исследования были созданы признаки как: основной канал взаимодействия с пользователем, среднее количество покупок с одного рекламного сообщения, средний чек пользователя, создан ряд признаков, характеризующих активность пользователя, частота открытий, частота кликов, частота покупок, наличие ошибок при отправке сообщений.\n",
    "\n",
    "На полученных данных обучены различные модели, для 3 лучших подобраны гиперпарамеры. Итоговой моделью стала SGDClassifier, которая показала 0.708 на тесте.\n",
    "\n",
    "Также в результате анализа выявлено, что в данных присутствует неоднородность. Часто для пользователя не сходится информация с таблицы apparel_messages и apparel_purchases."
   ]
  },
  {
   "cell_type": "code",
   "execution_count": 37,
   "id": "4912be86-8f82-4fc3-a683-40074f280605",
   "metadata": {},
   "outputs": [],
   "source": [
    "reserch_info = pd.concat([event_rate_data.fillna(0)['purchase'].rename('apparel_messages'), \n",
    "                          grouped_purchase_data.groupby('client_id')['message_id'].count().rename('apparel_purchases')], axis=1)"
   ]
  },
  {
   "cell_type": "code",
   "execution_count": 38,
   "id": "d244db26-22da-41bf-8987-a3bd361e0711",
   "metadata": {
    "scrolled": true
   },
   "outputs": [
    {
     "data": {
      "text/plain": [
       "4497"
      ]
     },
     "execution_count": 38,
     "metadata": {},
     "output_type": "execute_result"
    }
   ],
   "source": [
    "reserch_info[reserch_info.apply(lambda x: ((x['apparel_messages'] == 0) and (x['apparel_purchases'] > 0)\n",
    "                                          or ((x['apparel_messages'] > 0) and (x['apparel_purchases'] == 0))), axis=1)].shape[0]"
   ]
  },
  {
   "cell_type": "code",
   "execution_count": 39,
   "id": "dcf144c9-d84c-4338-819b-b16a0bb95bf7",
   "metadata": {},
   "outputs": [],
   "source": [
    "ids = reserch_info[reserch_info.apply(lambda x: x['apparel_messages'] == 0 and x['apparel_purchases'] > 0, axis=1)].index"
   ]
  },
  {
   "cell_type": "code",
   "execution_count": 40,
   "id": "6c0a3cdc-37da-4aa6-97de-dbed5f946ac9",
   "metadata": {},
   "outputs": [
    {
     "data": {
      "text/plain": [
       "4497"
      ]
     },
     "execution_count": 40,
     "metadata": {},
     "output_type": "execute_result"
    }
   ],
   "source": [
    "apparel_target_binary['client_id'].isin(ids).sum()"
   ]
  },
  {
   "cell_type": "markdown",
   "id": "6aad882f-0ecb-43f0-aed0-34286159846d",
   "metadata": {},
   "source": [
    "Таких пользователей 4497 штук, из них вcе присутствуют в итоговом датасете apparel_target_binary. Возможно данный фактор мог повлиять на слабы результаты модели, в совокупности с низкой зависимостью между входными признаками и целевыми."
   ]
  }
 ],
 "metadata": {
  "kernelspec": {
   "display_name": "Python 3 (ipykernel)",
   "language": "python",
   "name": "python3"
  },
  "language_info": {
   "codemirror_mode": {
    "name": "ipython",
    "version": 3
   },
   "file_extension": ".py",
   "mimetype": "text/x-python",
   "name": "python",
   "nbconvert_exporter": "python",
   "pygments_lexer": "ipython3",
   "version": "3.12.1"
  }
 },
 "nbformat": 4,
 "nbformat_minor": 5
}
